{
 "cells": [
  {
   "cell_type": "markdown",
   "metadata": {},
   "source": [
    "# Data Cleaning and Manipulation"
   ]
  },
  {
   "cell_type": "code",
   "execution_count": 1,
   "metadata": {},
   "outputs": [],
   "source": [
    "import pandas as pd"
   ]
  },
  {
   "cell_type": "markdown",
   "metadata": {},
   "source": [
    "# Dataset I\n",
    "*Utilitarian moral judgments in relational contexts*\n",
    "## Reading"
   ]
  },
  {
   "cell_type": "code",
   "execution_count": 2,
   "metadata": {},
   "outputs": [
    {
     "data": {
      "text/html": [
       "<div>\n",
       "<style scoped>\n",
       "    .dataframe tbody tr th:only-of-type {\n",
       "        vertical-align: middle;\n",
       "    }\n",
       "\n",
       "    .dataframe tbody tr th {\n",
       "        vertical-align: top;\n",
       "    }\n",
       "\n",
       "    .dataframe thead th {\n",
       "        text-align: right;\n",
       "    }\n",
       "</style>\n",
       "<table border=\"1\" class=\"dataframe\">\n",
       "  <thead>\n",
       "    <tr style=\"text-align: right;\">\n",
       "      <th></th>\n",
       "      <th>StartDate</th>\n",
       "      <th>EndDate</th>\n",
       "      <th>Status</th>\n",
       "      <th>Progress</th>\n",
       "      <th>Duration (in seconds)</th>\n",
       "      <th>Finished</th>\n",
       "      <th>RecordedDate</th>\n",
       "      <th>ResponseId</th>\n",
       "      <th>DistributionChannel</th>\n",
       "      <th>UserLanguage</th>\n",
       "      <th>...</th>\n",
       "      <th>Q372</th>\n",
       "      <th>Q373</th>\n",
       "      <th>Q183</th>\n",
       "      <th>Q380</th>\n",
       "      <th>Bot.CheckFriday</th>\n",
       "      <th>Bot.CheckFriday2</th>\n",
       "      <th>Q16</th>\n",
       "      <th>Q17</th>\n",
       "      <th>Q67</th>\n",
       "      <th>Random ID\\r</th>\n",
       "    </tr>\n",
       "  </thead>\n",
       "  <tbody>\n",
       "    <tr>\n",
       "      <td>0</td>\n",
       "      <td>Start Date</td>\n",
       "      <td>End Date</td>\n",
       "      <td>Response Type</td>\n",
       "      <td>Progress</td>\n",
       "      <td>Duration (in seconds)</td>\n",
       "      <td>Finished</td>\n",
       "      <td>Recorded Date</td>\n",
       "      <td>Response ID</td>\n",
       "      <td>Distribution Channel</td>\n",
       "      <td>User Language</td>\n",
       "      <td>...</td>\n",
       "      <td>education</td>\n",
       "      <td>income</td>\n",
       "      <td>How would you describe your political beliefs?</td>\n",
       "      <td>religiosity</td>\n",
       "      <td>Bot.CheckFriday</td>\n",
       "      <td>Bot.CheckFriday2</td>\n",
       "      <td>Feedback1</td>\n",
       "      <td>Feedback2</td>\n",
       "      <td>In order to receive payment for this study, yo...</td>\n",
       "      <td>Random ID\\r</td>\n",
       "    </tr>\n",
       "    <tr>\n",
       "      <td>1</td>\n",
       "      <td>{\"ImportId\":\"startDate\",\"timeZone\":\"America/Ne...</td>\n",
       "      <td>{\"ImportId\":\"endDate\",\"timeZone\":\"America/New_...</td>\n",
       "      <td>{\"ImportId\":\"status\"}</td>\n",
       "      <td>{\"ImportId\":\"progress\"}</td>\n",
       "      <td>{\"ImportId\":\"duration\"}</td>\n",
       "      <td>{\"ImportId\":\"finished\"}</td>\n",
       "      <td>{\"ImportId\":\"recordedDate\",\"timeZone\":\"America...</td>\n",
       "      <td>{\"ImportId\":\"_recordId\"}</td>\n",
       "      <td>{\"ImportId\":\"distributionChannel\"}</td>\n",
       "      <td>{\"ImportId\":\"userLanguage\"}</td>\n",
       "      <td>...</td>\n",
       "      <td>{\"ImportId\":\"QID372\"}</td>\n",
       "      <td>{\"ImportId\":\"QID373\"}</td>\n",
       "      <td>{\"ImportId\":\"QID407\"}</td>\n",
       "      <td>{\"ImportId\":\"QID380\"}</td>\n",
       "      <td>{\"ImportId\":\"QID400_TEXT\"}</td>\n",
       "      <td>{\"ImportId\":\"QID401_TEXT\"}</td>\n",
       "      <td>{\"ImportId\":\"QID16_TEXT\"}</td>\n",
       "      <td>{\"ImportId\":\"QID17_TEXT\"}</td>\n",
       "      <td>{\"ImportId\":\"QID178\"}</td>\n",
       "      <td>{\"ImportId\":\"Random ID\"}\\r</td>\n",
       "    </tr>\n",
       "    <tr>\n",
       "      <td>2</td>\n",
       "      <td>2020-04-30 12:25:10</td>\n",
       "      <td>2020-04-30 12:47:00</td>\n",
       "      <td>Survey Preview</td>\n",
       "      <td>100</td>\n",
       "      <td>1310</td>\n",
       "      <td>True</td>\n",
       "      <td>2020-04-30 12:47:01</td>\n",
       "      <td>R_DTUhAK0bBCz2bBL</td>\n",
       "      <td>preview</td>\n",
       "      <td>EN</td>\n",
       "      <td>...</td>\n",
       "      <td>Some college</td>\n",
       "      <td>$5,000-$10,000</td>\n",
       "      <td>NaN</td>\n",
       "      <td>Not at all religious1</td>\n",
       "      <td>NaN</td>\n",
       "      <td>NaN</td>\n",
       "      <td>NaN</td>\n",
       "      <td>NaN</td>\n",
       "      <td>I understand</td>\n",
       "      <td>11906\\r</td>\n",
       "    </tr>\n",
       "    <tr>\n",
       "      <td>3</td>\n",
       "      <td>2020-05-14 12:56:18</td>\n",
       "      <td>2020-05-17 00:01:55</td>\n",
       "      <td>IP Address</td>\n",
       "      <td>100</td>\n",
       "      <td>212736</td>\n",
       "      <td>True</td>\n",
       "      <td>2020-05-17 00:01:56</td>\n",
       "      <td>R_2CrBZPYHiA4drUF</td>\n",
       "      <td>anonymous</td>\n",
       "      <td>EN</td>\n",
       "      <td>...</td>\n",
       "      <td>Elementary/Middle School</td>\n",
       "      <td>$5,000-$10,000</td>\n",
       "      <td>7\\nVery Conservative/Right\\n</td>\n",
       "      <td>Very Religious7</td>\n",
       "      <td>asdl;kfj</td>\n",
       "      <td>asdf</td>\n",
       "      <td>i don't</td>\n",
       "      <td>asdf</td>\n",
       "      <td>I understand</td>\n",
       "      <td>32983\\r</td>\n",
       "    </tr>\n",
       "    <tr>\n",
       "      <td>4</td>\n",
       "      <td>2020-05-17 00:07:50</td>\n",
       "      <td>2020-05-17 00:18:00</td>\n",
       "      <td>IP Address</td>\n",
       "      <td>100</td>\n",
       "      <td>609</td>\n",
       "      <td>True</td>\n",
       "      <td>2020-05-17 00:18:01</td>\n",
       "      <td>R_2DP7jzvlNn6PbmQ</td>\n",
       "      <td>anonymous</td>\n",
       "      <td>EN</td>\n",
       "      <td>...</td>\n",
       "      <td>4 year degree</td>\n",
       "      <td>$65,001-$80,000</td>\n",
       "      <td>1\\n\\nVery Liberal/Left\\n</td>\n",
       "      <td>Not at all religious1</td>\n",
       "      <td>Friday</td>\n",
       "      <td>FRIDAY</td>\n",
       "      <td>morality in connection to relationships</td>\n",
       "      <td>no</td>\n",
       "      <td>I understand</td>\n",
       "      <td>28368\\r</td>\n",
       "    </tr>\n",
       "  </tbody>\n",
       "</table>\n",
       "<p>5 rows × 156 columns</p>\n",
       "</div>"
      ],
      "text/plain": [
       "                                           StartDate  \\\n",
       "0                                         Start Date   \n",
       "1  {\"ImportId\":\"startDate\",\"timeZone\":\"America/Ne...   \n",
       "2                                2020-04-30 12:25:10   \n",
       "3                                2020-05-14 12:56:18   \n",
       "4                                2020-05-17 00:07:50   \n",
       "\n",
       "                                             EndDate                 Status  \\\n",
       "0                                           End Date          Response Type   \n",
       "1  {\"ImportId\":\"endDate\",\"timeZone\":\"America/New_...  {\"ImportId\":\"status\"}   \n",
       "2                                2020-04-30 12:47:00         Survey Preview   \n",
       "3                                2020-05-17 00:01:55             IP Address   \n",
       "4                                2020-05-17 00:18:00             IP Address   \n",
       "\n",
       "                  Progress    Duration (in seconds)                 Finished  \\\n",
       "0                 Progress    Duration (in seconds)                 Finished   \n",
       "1  {\"ImportId\":\"progress\"}  {\"ImportId\":\"duration\"}  {\"ImportId\":\"finished\"}   \n",
       "2                      100                     1310                     True   \n",
       "3                      100                   212736                     True   \n",
       "4                      100                      609                     True   \n",
       "\n",
       "                                        RecordedDate  \\\n",
       "0                                      Recorded Date   \n",
       "1  {\"ImportId\":\"recordedDate\",\"timeZone\":\"America...   \n",
       "2                                2020-04-30 12:47:01   \n",
       "3                                2020-05-17 00:01:56   \n",
       "4                                2020-05-17 00:18:01   \n",
       "\n",
       "                 ResponseId                 DistributionChannel  \\\n",
       "0               Response ID                Distribution Channel   \n",
       "1  {\"ImportId\":\"_recordId\"}  {\"ImportId\":\"distributionChannel\"}   \n",
       "2         R_DTUhAK0bBCz2bBL                             preview   \n",
       "3         R_2CrBZPYHiA4drUF                           anonymous   \n",
       "4         R_2DP7jzvlNn6PbmQ                           anonymous   \n",
       "\n",
       "                  UserLanguage  ...                      Q372  \\\n",
       "0                User Language  ...                 education   \n",
       "1  {\"ImportId\":\"userLanguage\"}  ...     {\"ImportId\":\"QID372\"}   \n",
       "2                           EN  ...              Some college   \n",
       "3                           EN  ...  Elementary/Middle School   \n",
       "4                           EN  ...             4 year degree   \n",
       "\n",
       "                    Q373                                            Q183  \\\n",
       "0                 income  How would you describe your political beliefs?   \n",
       "1  {\"ImportId\":\"QID373\"}                           {\"ImportId\":\"QID407\"}   \n",
       "2         $5,000-$10,000                                             NaN   \n",
       "3         $5,000-$10,000                    7\\nVery Conservative/Right\\n   \n",
       "4        $65,001-$80,000                        1\\n\\nVery Liberal/Left\\n   \n",
       "\n",
       "                    Q380             Bot.CheckFriday  \\\n",
       "0            religiosity             Bot.CheckFriday   \n",
       "1  {\"ImportId\":\"QID380\"}  {\"ImportId\":\"QID400_TEXT\"}   \n",
       "2  Not at all religious1                         NaN   \n",
       "3        Very Religious7                    asdl;kfj   \n",
       "4  Not at all religious1                      Friday   \n",
       "\n",
       "             Bot.CheckFriday2                                      Q16  \\\n",
       "0            Bot.CheckFriday2                                Feedback1   \n",
       "1  {\"ImportId\":\"QID401_TEXT\"}                {\"ImportId\":\"QID16_TEXT\"}   \n",
       "2                         NaN                                      NaN   \n",
       "3                        asdf                                  i don't   \n",
       "4                      FRIDAY  morality in connection to relationships   \n",
       "\n",
       "                         Q17  \\\n",
       "0                  Feedback2   \n",
       "1  {\"ImportId\":\"QID17_TEXT\"}   \n",
       "2                        NaN   \n",
       "3                       asdf   \n",
       "4                         no   \n",
       "\n",
       "                                                 Q67  \\\n",
       "0  In order to receive payment for this study, yo...   \n",
       "1                              {\"ImportId\":\"QID178\"}   \n",
       "2                                       I understand   \n",
       "3                                       I understand   \n",
       "4                                       I understand   \n",
       "\n",
       "                  Random ID\\r  \n",
       "0                 Random ID\\r  \n",
       "1  {\"ImportId\":\"Random ID\"}\\r  \n",
       "2                     11906\\r  \n",
       "3                     32983\\r  \n",
       "4                     28368\\r  \n",
       "\n",
       "[5 rows x 156 columns]"
      ]
     },
     "execution_count": 2,
     "metadata": {},
     "output_type": "execute_result"
    }
   ],
   "source": [
    "df = pd.read_csv(\"./Data/relational_morality_utilitarian.csv\", encoding = \"utf-8-sig\", lineterminator = \"\\n\")\n",
    "df.head()"
   ]
  },
  {
   "cell_type": "markdown",
   "metadata": {},
   "source": [
    "## Exploring\n",
    "Macro-level. Does the data look okay?"
   ]
  },
  {
   "cell_type": "code",
   "execution_count": 3,
   "metadata": {},
   "outputs": [
    {
     "data": {
      "text/html": [
       "<div>\n",
       "<style scoped>\n",
       "    .dataframe tbody tr th:only-of-type {\n",
       "        vertical-align: middle;\n",
       "    }\n",
       "\n",
       "    .dataframe tbody tr th {\n",
       "        vertical-align: top;\n",
       "    }\n",
       "\n",
       "    .dataframe thead th {\n",
       "        text-align: right;\n",
       "    }\n",
       "</style>\n",
       "<table border=\"1\" class=\"dataframe\">\n",
       "  <thead>\n",
       "    <tr style=\"text-align: right;\">\n",
       "      <th></th>\n",
       "      <th>StartDate</th>\n",
       "      <th>EndDate</th>\n",
       "      <th>Status</th>\n",
       "      <th>Progress</th>\n",
       "      <th>Duration (in seconds)</th>\n",
       "      <th>Finished</th>\n",
       "      <th>RecordedDate</th>\n",
       "      <th>ResponseId</th>\n",
       "      <th>DistributionChannel</th>\n",
       "      <th>UserLanguage</th>\n",
       "      <th>...</th>\n",
       "      <th>Q372</th>\n",
       "      <th>Q373</th>\n",
       "      <th>Q183</th>\n",
       "      <th>Q380</th>\n",
       "      <th>Bot.CheckFriday</th>\n",
       "      <th>Bot.CheckFriday2</th>\n",
       "      <th>Q16</th>\n",
       "      <th>Q17</th>\n",
       "      <th>Q67</th>\n",
       "      <th>Random ID\\r</th>\n",
       "    </tr>\n",
       "  </thead>\n",
       "  <tbody>\n",
       "    <tr>\n",
       "      <td>2</td>\n",
       "      <td>2020-04-30 12:25:10</td>\n",
       "      <td>2020-04-30 12:47:00</td>\n",
       "      <td>Survey Preview</td>\n",
       "      <td>100</td>\n",
       "      <td>1310</td>\n",
       "      <td>True</td>\n",
       "      <td>2020-04-30 12:47:01</td>\n",
       "      <td>R_DTUhAK0bBCz2bBL</td>\n",
       "      <td>preview</td>\n",
       "      <td>EN</td>\n",
       "      <td>...</td>\n",
       "      <td>Some college</td>\n",
       "      <td>$5,000-$10,000</td>\n",
       "      <td>NaN</td>\n",
       "      <td>Not at all religious1</td>\n",
       "      <td>NaN</td>\n",
       "      <td>NaN</td>\n",
       "      <td>NaN</td>\n",
       "      <td>NaN</td>\n",
       "      <td>I understand</td>\n",
       "      <td>11906\\r</td>\n",
       "    </tr>\n",
       "    <tr>\n",
       "      <td>3</td>\n",
       "      <td>2020-05-14 12:56:18</td>\n",
       "      <td>2020-05-17 00:01:55</td>\n",
       "      <td>IP Address</td>\n",
       "      <td>100</td>\n",
       "      <td>212736</td>\n",
       "      <td>True</td>\n",
       "      <td>2020-05-17 00:01:56</td>\n",
       "      <td>R_2CrBZPYHiA4drUF</td>\n",
       "      <td>anonymous</td>\n",
       "      <td>EN</td>\n",
       "      <td>...</td>\n",
       "      <td>Elementary/Middle School</td>\n",
       "      <td>$5,000-$10,000</td>\n",
       "      <td>7\\nVery Conservative/Right\\n</td>\n",
       "      <td>Very Religious7</td>\n",
       "      <td>asdl;kfj</td>\n",
       "      <td>asdf</td>\n",
       "      <td>i don't</td>\n",
       "      <td>asdf</td>\n",
       "      <td>I understand</td>\n",
       "      <td>32983\\r</td>\n",
       "    </tr>\n",
       "    <tr>\n",
       "      <td>4</td>\n",
       "      <td>2020-05-17 00:07:50</td>\n",
       "      <td>2020-05-17 00:18:00</td>\n",
       "      <td>IP Address</td>\n",
       "      <td>100</td>\n",
       "      <td>609</td>\n",
       "      <td>True</td>\n",
       "      <td>2020-05-17 00:18:01</td>\n",
       "      <td>R_2DP7jzvlNn6PbmQ</td>\n",
       "      <td>anonymous</td>\n",
       "      <td>EN</td>\n",
       "      <td>...</td>\n",
       "      <td>4 year degree</td>\n",
       "      <td>$65,001-$80,000</td>\n",
       "      <td>1\\n\\nVery Liberal/Left\\n</td>\n",
       "      <td>Not at all religious1</td>\n",
       "      <td>Friday</td>\n",
       "      <td>FRIDAY</td>\n",
       "      <td>morality in connection to relationships</td>\n",
       "      <td>no</td>\n",
       "      <td>I understand</td>\n",
       "      <td>28368\\r</td>\n",
       "    </tr>\n",
       "    <tr>\n",
       "      <td>5</td>\n",
       "      <td>2020-05-17 00:06:47</td>\n",
       "      <td>2020-05-17 00:18:56</td>\n",
       "      <td>IP Address</td>\n",
       "      <td>100</td>\n",
       "      <td>729</td>\n",
       "      <td>True</td>\n",
       "      <td>2020-05-17 00:18:57</td>\n",
       "      <td>R_2RagKPp8PI8jOUC</td>\n",
       "      <td>anonymous</td>\n",
       "      <td>EN</td>\n",
       "      <td>...</td>\n",
       "      <td>Postgraduate/Professional degree or other high...</td>\n",
       "      <td>$25,001-$35,000</td>\n",
       "      <td>1\\n\\nVery Liberal/Left\\n</td>\n",
       "      <td>Not at all religious1</td>\n",
       "      <td>FRIDAY</td>\n",
       "      <td>NaN</td>\n",
       "      <td>People's ideas of morality</td>\n",
       "      <td>nothing comes to mind</td>\n",
       "      <td>I understand</td>\n",
       "      <td>22556\\r</td>\n",
       "    </tr>\n",
       "    <tr>\n",
       "      <td>6</td>\n",
       "      <td>2020-05-17 00:08:19</td>\n",
       "      <td>2020-05-17 00:20:54</td>\n",
       "      <td>IP Address</td>\n",
       "      <td>100</td>\n",
       "      <td>755</td>\n",
       "      <td>True</td>\n",
       "      <td>2020-05-17 00:20:55</td>\n",
       "      <td>R_3fNOuozFxciaP24</td>\n",
       "      <td>anonymous</td>\n",
       "      <td>EN</td>\n",
       "      <td>...</td>\n",
       "      <td>Postgraduate/Professional degree or other high...</td>\n",
       "      <td>$35,001-$50,000</td>\n",
       "      <td>7\\nVery Conservative/Right\\n</td>\n",
       "      <td>Very Religious7</td>\n",
       "      <td>FRIDAY</td>\n",
       "      <td>NaN</td>\n",
       "      <td>People's gauge of how their helpfullness or la...</td>\n",
       "      <td>none</td>\n",
       "      <td>I understand</td>\n",
       "      <td>31200\\r</td>\n",
       "    </tr>\n",
       "  </tbody>\n",
       "</table>\n",
       "<p>5 rows × 156 columns</p>\n",
       "</div>"
      ],
      "text/plain": [
       "             StartDate              EndDate          Status Progress  \\\n",
       "2  2020-04-30 12:25:10  2020-04-30 12:47:00  Survey Preview      100   \n",
       "3  2020-05-14 12:56:18  2020-05-17 00:01:55      IP Address      100   \n",
       "4  2020-05-17 00:07:50  2020-05-17 00:18:00      IP Address      100   \n",
       "5  2020-05-17 00:06:47  2020-05-17 00:18:56      IP Address      100   \n",
       "6  2020-05-17 00:08:19  2020-05-17 00:20:54      IP Address      100   \n",
       "\n",
       "  Duration (in seconds) Finished         RecordedDate         ResponseId  \\\n",
       "2                  1310     True  2020-04-30 12:47:01  R_DTUhAK0bBCz2bBL   \n",
       "3                212736     True  2020-05-17 00:01:56  R_2CrBZPYHiA4drUF   \n",
       "4                   609     True  2020-05-17 00:18:01  R_2DP7jzvlNn6PbmQ   \n",
       "5                   729     True  2020-05-17 00:18:57  R_2RagKPp8PI8jOUC   \n",
       "6                   755     True  2020-05-17 00:20:55  R_3fNOuozFxciaP24   \n",
       "\n",
       "  DistributionChannel UserLanguage  ...  \\\n",
       "2             preview           EN  ...   \n",
       "3           anonymous           EN  ...   \n",
       "4           anonymous           EN  ...   \n",
       "5           anonymous           EN  ...   \n",
       "6           anonymous           EN  ...   \n",
       "\n",
       "                                                Q372             Q373  \\\n",
       "2                                       Some college   $5,000-$10,000   \n",
       "3                           Elementary/Middle School   $5,000-$10,000   \n",
       "4                                      4 year degree  $65,001-$80,000   \n",
       "5  Postgraduate/Professional degree or other high...  $25,001-$35,000   \n",
       "6  Postgraduate/Professional degree or other high...  $35,001-$50,000   \n",
       "\n",
       "                           Q183                   Q380 Bot.CheckFriday  \\\n",
       "2                           NaN  Not at all religious1             NaN   \n",
       "3  7\\nVery Conservative/Right\\n        Very Religious7        asdl;kfj   \n",
       "4      1\\n\\nVery Liberal/Left\\n  Not at all religious1          Friday   \n",
       "5      1\\n\\nVery Liberal/Left\\n  Not at all religious1          FRIDAY   \n",
       "6  7\\nVery Conservative/Right\\n        Very Religious7          FRIDAY   \n",
       "\n",
       "  Bot.CheckFriday2                                                Q16  \\\n",
       "2              NaN                                                NaN   \n",
       "3             asdf                                            i don't   \n",
       "4           FRIDAY            morality in connection to relationships   \n",
       "5              NaN                         People's ideas of morality   \n",
       "6              NaN  People's gauge of how their helpfullness or la...   \n",
       "\n",
       "                     Q17           Q67 Random ID\\r  \n",
       "2                    NaN  I understand     11906\\r  \n",
       "3                   asdf  I understand     32983\\r  \n",
       "4                     no  I understand     28368\\r  \n",
       "5  nothing comes to mind  I understand     22556\\r  \n",
       "6                   none  I understand     31200\\r  \n",
       "\n",
       "[5 rows x 156 columns]"
      ]
     },
     "execution_count": 3,
     "metadata": {},
     "output_type": "execute_result"
    }
   ],
   "source": [
    "df = df[2:] #Indexing\n",
    "df.head()"
   ]
  },
  {
   "cell_type": "markdown",
   "metadata": {},
   "source": [
    "Explore the factors/variables/columns"
   ]
  },
  {
   "cell_type": "code",
   "execution_count": 4,
   "metadata": {},
   "outputs": [
    {
     "data": {
      "text/plain": [
       "Index(['StartDate', 'EndDate', 'Status', 'Progress', 'Duration (in seconds)',\n",
       "       'Finished', 'RecordedDate', 'ResponseId', 'DistributionChannel',\n",
       "       'UserLanguage',\n",
       "       ...\n",
       "       'Q372', 'Q373', 'Q183', 'Q380', 'Bot.CheckFriday', 'Bot.CheckFriday2',\n",
       "       'Q16', 'Q17', 'Q67', 'Random ID\\r'],\n",
       "      dtype='object', length=156)"
      ]
     },
     "execution_count": 4,
     "metadata": {},
     "output_type": "execute_result"
    }
   ],
   "source": [
    "df.columns #An example of an 'attribute' (contrast with a 'method')"
   ]
  },
  {
   "cell_type": "code",
   "execution_count": 5,
   "metadata": {},
   "outputs": [
    {
     "data": {
      "text/plain": [
       "['StartDate',\n",
       " 'EndDate',\n",
       " 'Status',\n",
       " 'Progress',\n",
       " 'Duration (in seconds)',\n",
       " 'Finished',\n",
       " 'RecordedDate',\n",
       " 'ResponseId',\n",
       " 'DistributionChannel',\n",
       " 'UserLanguage',\n",
       " 'Q2',\n",
       " 'intro.1',\n",
       " 'CheckNo1',\n",
       " 'CheckNo1Wrong',\n",
       " 'CheckNo2',\n",
       " 'CheckNo2Wrong',\n",
       " 'RoomHouse.intro',\n",
       " 'RoomHouse.CryWalk_1',\n",
       " 'RoomHouse.CellphoneS_1',\n",
       " 'RoomHouse.NoHelpBoxe_1',\n",
       " 'RoomHouse.GroceriesS_1',\n",
       " 'RoomHouse.MedicineCo_1',\n",
       " 'RoomHouse.FindGift_1',\n",
       " 'sib.intro',\n",
       " 'Sib.CryingWalk_1',\n",
       " 'Sib.CellphoneStorySi_1',\n",
       " 'Sib.NoHelpBoxes_1',\n",
       " 'Sib.GroceriesSurgery_1',\n",
       " 'Sib.MedicineCold_1',\n",
       " 'sib.FindGift_1',\n",
       " 'FatherChild.Intro',\n",
       " 'FatherChild.CryingWa_1',\n",
       " 'FatherChild.Cellphon_1',\n",
       " 'FatherChild.NoHelpBo_1',\n",
       " 'FatherChild.Grocerie_1',\n",
       " 'FatherChild.Medicine_1',\n",
       " 'FatherChild.FindGift_1',\n",
       " 'MotherChild.Intro',\n",
       " 'MotherChild.CryingWa_1',\n",
       " 'MotherChild.Cellphon_1',\n",
       " 'MotherChild.NoHelpBo_1',\n",
       " 'MotherChild.Grocerie_1',\n",
       " 'MotherChild.Medicine_1',\n",
       " 'MotherChild.FindGift_1',\n",
       " 'Romance.Intro',\n",
       " 'Romance.CryingWalk_1',\n",
       " 'Romance.CellphoneSto_1',\n",
       " 'Romance.NoHelpBoxes_1',\n",
       " 'Romance.GroceriesSur_1',\n",
       " 'Romance.MedicineCold_1',\n",
       " 'Romance.FindGift_1',\n",
       " 'Friends.Intro',\n",
       " 'Friends.CryingWalk_1',\n",
       " 'Friends.CellphoneSto_1',\n",
       " 'Friends.NoHelpBoxes_1',\n",
       " 'Friends.GroceriesSur_1',\n",
       " 'Friends.MedicineCold_1',\n",
       " 'Friends.FindGift_1',\n",
       " 'EmployBoss.Intro',\n",
       " 'EmployBoss.CryingWal_1',\n",
       " 'EmployBoss.Cellphone_1',\n",
       " 'EmployBoss.NoHelpBox_1',\n",
       " 'EmployBoss.Groceries_1',\n",
       " 'EmployBoss.MedicineC_1',\n",
       " 'EmployBoss.FindGift_1',\n",
       " 'Team.Intro',\n",
       " 'Team.CryingWalk_1',\n",
       " 'Team.CellphoneStory_4',\n",
       " 'Team.NoHelpBoxes_1',\n",
       " 'Team.GroceriesSurger_1',\n",
       " 'Team.MedicineCold_2',\n",
       " 'Team.FindGift_1',\n",
       " 'FWB.Intro',\n",
       " 'FWB.CryingWalk_1',\n",
       " 'FWB.CellphoneStory_1',\n",
       " 'FWB.NoHelpBoxes_1',\n",
       " 'FWB.GroceriesSurgery_1',\n",
       " 'FWB.MedicineCold_1',\n",
       " 'FWB.FindGift_1',\n",
       " 'Strange.Intro',\n",
       " 'Strange.CryingWalk_1',\n",
       " 'Strange.CellphoneSto_1',\n",
       " 'Strange.NoHelpBoxes_1',\n",
       " 'Strange.GroceriesSur_1',\n",
       " 'Strange.MedicineCold_1',\n",
       " 'Strange.FindGift_1',\n",
       " 'Q90',\n",
       " 'IB.Kidney',\n",
       " 'IB.Planet',\n",
       " 'IB.FailHelp',\n",
       " 'IB.Donate',\n",
       " 'IB.Leg',\n",
       " 'IH.HarmHelp',\n",
       " 'IH.Political',\n",
       " 'IH.Torture',\n",
       " 'IH.CollatDamage',\n",
       " 'CheckNo3',\n",
       " 'L.RoomHous.Groceries_1',\n",
       " 'L.RoomHous.FindGift_1',\n",
       " 'L.RoomHous.MedicineC_1',\n",
       " 'Q337_1',\n",
       " 'Q338_1',\n",
       " 'Q339_1',\n",
       " 'Q349_1',\n",
       " 'Q350_1',\n",
       " 'Q351_1',\n",
       " 'Q352_1',\n",
       " 'Q353_1',\n",
       " 'Q354_1',\n",
       " 'Q355_1',\n",
       " 'Q356_1',\n",
       " 'Q357_1',\n",
       " 'Q361_1',\n",
       " 'Q362_1',\n",
       " 'Q363_1',\n",
       " 'Q358_1',\n",
       " 'Q359_1',\n",
       " 'Q360_1',\n",
       " 'Q346_1',\n",
       " 'Q347_1',\n",
       " 'Q348_1',\n",
       " 'Q340_1',\n",
       " 'Q341_1',\n",
       " 'Q342_1',\n",
       " 'Q343_1',\n",
       " 'Q344_1',\n",
       " 'Q345_1',\n",
       " 'Q211',\n",
       " 'GollwitzerMeasure_1',\n",
       " 'GollwitzerMeasure_2',\n",
       " 'GollwitzerMeasure_3',\n",
       " 'GollwitzerMeasure_4',\n",
       " 'GollwitzerMeasure_5',\n",
       " 'GollwitzerMeasure_6',\n",
       " 'Covid.Responsibility',\n",
       " 'Covid.Threat.Persona',\n",
       " 'Covid.Threat.Comm',\n",
       " 'Q365',\n",
       " 'Q366',\n",
       " 'Q366_7_TEXT',\n",
       " 'Q367',\n",
       " 'Q368',\n",
       " 'Q368_9_TEXT',\n",
       " 'Q370',\n",
       " 'Q371',\n",
       " 'Q170',\n",
       " 'Q372',\n",
       " 'Q373',\n",
       " 'Q183',\n",
       " 'Q380',\n",
       " 'Bot.CheckFriday',\n",
       " 'Bot.CheckFriday2',\n",
       " 'Q16',\n",
       " 'Q17',\n",
       " 'Q67',\n",
       " 'Random ID\\r']"
      ]
     },
     "execution_count": 5,
     "metadata": {},
     "output_type": "execute_result"
    }
   ],
   "source": [
    "#List comprehension\n",
    "[col for col in df.columns] #Note the \\r, escape characters and encoding"
   ]
  },
  {
   "cell_type": "markdown",
   "metadata": {},
   "source": [
    "Data Types:<br>*String, Integer, Floating Point, None*"
   ]
  },
  {
   "cell_type": "code",
   "execution_count": 6,
   "metadata": {},
   "outputs": [
    {
     "data": {
      "text/plain": [
       "StartDate                object\n",
       "EndDate                  object\n",
       "Status                   object\n",
       "Progress                 object\n",
       "Duration (in seconds)    object\n",
       "                          ...  \n",
       "Bot.CheckFriday2         object\n",
       "Q16                      object\n",
       "Q17                      object\n",
       "Q67                      object\n",
       "Random ID\\r              object\n",
       "Length: 156, dtype: object"
      ]
     },
     "execution_count": 6,
     "metadata": {},
     "output_type": "execute_result"
    }
   ],
   "source": [
    "df.dtypes #Incorrect data types"
   ]
  },
  {
   "cell_type": "code",
   "execution_count": 7,
   "metadata": {},
   "outputs": [
    {
     "data": {
      "text/plain": [
       "(328, 156)"
      ]
     },
     "execution_count": 7,
     "metadata": {},
     "output_type": "execute_result"
    }
   ],
   "source": [
    "df.shape"
   ]
  },
  {
   "cell_type": "markdown",
   "metadata": {},
   "source": [
    "## Cleaning\n",
    "### Removing unwanted data (optional)\n",
    "Often our behavioral tasks output data which are not useful for our analyses or which contain identifying information that has to be removed prior to being made public.<br><br>Having the columns in the dataset does not interfere with analyses (we simply won't use them), but it can be helpful to remove them to reduce file storage size as well as visual clutter:"
   ]
  },
  {
   "cell_type": "code",
   "execution_count": 8,
   "metadata": {},
   "outputs": [],
   "source": [
    "del_cols = [\"StartDate\", \"EndDate\", \"Progress\", \"Finished\", \"RecordedDate\",\\\n",
    "            \"DistributionChannel\", \"Q2\", \"intro.1\", \"CheckNo1\", \"CheckNo2\", \"RoomHouse.intro\",\"sib.intro\",\\\n",
    "            \"FatherChild.Intro\", \"MotherChild.Intro\", \"Romance.Intro\", \"Friends.Intro\", \"EmployBoss.Intro\",\\\n",
    "            \"Team.Intro\", \"FWB.Intro\", \"Strange.Intro\", \"Q90\", \"Q211\", \"GollwitzerMeasure_1\",\\\n",
    "            \"GollwitzerMeasure_2\", \"GollwitzerMeasure_3\", \"GollwitzerMeasure_4\", \"GollwitzerMeasure_5\",\\\n",
    "            \"GollwitzerMeasure_6\", \"Covid.Responsibility\", \"Covid.Threat.Persona\", \"Covid.Threat.Comm\",\\\n",
    "            \"Bot.CheckFriday\", \"Q16\", \"Q17\", \"Q67\", \"Random ID\\r\"]"
   ]
  },
  {
   "cell_type": "code",
   "execution_count": 9,
   "metadata": {},
   "outputs": [],
   "source": [
    "#Drop columns\n",
    "df.drop(columns = del_cols, inplace = True)"
   ]
  },
  {
   "cell_type": "code",
   "execution_count": 10,
   "metadata": {},
   "outputs": [
    {
     "data": {
      "text/html": [
       "<div>\n",
       "<style scoped>\n",
       "    .dataframe tbody tr th:only-of-type {\n",
       "        vertical-align: middle;\n",
       "    }\n",
       "\n",
       "    .dataframe tbody tr th {\n",
       "        vertical-align: top;\n",
       "    }\n",
       "\n",
       "    .dataframe thead th {\n",
       "        text-align: right;\n",
       "    }\n",
       "</style>\n",
       "<table border=\"1\" class=\"dataframe\">\n",
       "  <thead>\n",
       "    <tr style=\"text-align: right;\">\n",
       "      <th></th>\n",
       "      <th>Status</th>\n",
       "      <th>Duration (in seconds)</th>\n",
       "      <th>ResponseId</th>\n",
       "      <th>UserLanguage</th>\n",
       "      <th>CheckNo1Wrong</th>\n",
       "      <th>CheckNo2Wrong</th>\n",
       "      <th>RoomHouse.CryWalk_1</th>\n",
       "      <th>RoomHouse.CellphoneS_1</th>\n",
       "      <th>RoomHouse.NoHelpBoxe_1</th>\n",
       "      <th>RoomHouse.GroceriesS_1</th>\n",
       "      <th>...</th>\n",
       "      <th>Q368</th>\n",
       "      <th>Q368_9_TEXT</th>\n",
       "      <th>Q370</th>\n",
       "      <th>Q371</th>\n",
       "      <th>Q170</th>\n",
       "      <th>Q372</th>\n",
       "      <th>Q373</th>\n",
       "      <th>Q183</th>\n",
       "      <th>Q380</th>\n",
       "      <th>Bot.CheckFriday2</th>\n",
       "    </tr>\n",
       "  </thead>\n",
       "  <tbody>\n",
       "    <tr>\n",
       "      <td>2</td>\n",
       "      <td>Survey Preview</td>\n",
       "      <td>1310</td>\n",
       "      <td>R_DTUhAK0bBCz2bBL</td>\n",
       "      <td>EN</td>\n",
       "      <td>NaN</td>\n",
       "      <td>NaN</td>\n",
       "      <td>-54</td>\n",
       "      <td>-57</td>\n",
       "      <td>-50</td>\n",
       "      <td>14</td>\n",
       "      <td>...</td>\n",
       "      <td>White</td>\n",
       "      <td>NaN</td>\n",
       "      <td>Single</td>\n",
       "      <td>No Children</td>\n",
       "      <td>No</td>\n",
       "      <td>Some college</td>\n",
       "      <td>$5,000-$10,000</td>\n",
       "      <td>NaN</td>\n",
       "      <td>Not at all religious1</td>\n",
       "      <td>NaN</td>\n",
       "    </tr>\n",
       "    <tr>\n",
       "      <td>3</td>\n",
       "      <td>IP Address</td>\n",
       "      <td>212736</td>\n",
       "      <td>R_2CrBZPYHiA4drUF</td>\n",
       "      <td>EN</td>\n",
       "      <td>NaN</td>\n",
       "      <td>No, those were just examples of the kind of se...</td>\n",
       "      <td>35</td>\n",
       "      <td>-16</td>\n",
       "      <td>-19</td>\n",
       "      <td>20</td>\n",
       "      <td>...</td>\n",
       "      <td>Asian,Prefer not to say</td>\n",
       "      <td>NaN</td>\n",
       "      <td>Single</td>\n",
       "      <td>3 Children</td>\n",
       "      <td>No</td>\n",
       "      <td>Elementary/Middle School</td>\n",
       "      <td>$5,000-$10,000</td>\n",
       "      <td>7\\nVery Conservative/Right\\n</td>\n",
       "      <td>Very Religious7</td>\n",
       "      <td>asdf</td>\n",
       "    </tr>\n",
       "    <tr>\n",
       "      <td>4</td>\n",
       "      <td>IP Address</td>\n",
       "      <td>609</td>\n",
       "      <td>R_2DP7jzvlNn6PbmQ</td>\n",
       "      <td>EN</td>\n",
       "      <td>NaN</td>\n",
       "      <td>NaN</td>\n",
       "      <td>0</td>\n",
       "      <td>-3</td>\n",
       "      <td>-6</td>\n",
       "      <td>25</td>\n",
       "      <td>...</td>\n",
       "      <td>White</td>\n",
       "      <td>NaN</td>\n",
       "      <td>Single</td>\n",
       "      <td>No Children</td>\n",
       "      <td>No</td>\n",
       "      <td>4 year degree</td>\n",
       "      <td>$65,001-$80,000</td>\n",
       "      <td>1\\n\\nVery Liberal/Left\\n</td>\n",
       "      <td>Not at all religious1</td>\n",
       "      <td>FRIDAY</td>\n",
       "    </tr>\n",
       "    <tr>\n",
       "      <td>5</td>\n",
       "      <td>IP Address</td>\n",
       "      <td>729</td>\n",
       "      <td>R_2RagKPp8PI8jOUC</td>\n",
       "      <td>EN</td>\n",
       "      <td>NaN</td>\n",
       "      <td>NaN</td>\n",
       "      <td>-49</td>\n",
       "      <td>-96</td>\n",
       "      <td>-71</td>\n",
       "      <td>100</td>\n",
       "      <td>...</td>\n",
       "      <td>White</td>\n",
       "      <td>NaN</td>\n",
       "      <td>Single</td>\n",
       "      <td>No Children</td>\n",
       "      <td>Yes</td>\n",
       "      <td>Postgraduate/Professional degree or other high...</td>\n",
       "      <td>$25,001-$35,000</td>\n",
       "      <td>1\\n\\nVery Liberal/Left\\n</td>\n",
       "      <td>Not at all religious1</td>\n",
       "      <td>NaN</td>\n",
       "    </tr>\n",
       "    <tr>\n",
       "      <td>6</td>\n",
       "      <td>IP Address</td>\n",
       "      <td>755</td>\n",
       "      <td>R_3fNOuozFxciaP24</td>\n",
       "      <td>EN</td>\n",
       "      <td>NaN</td>\n",
       "      <td>NaN</td>\n",
       "      <td>-28</td>\n",
       "      <td>-19</td>\n",
       "      <td>-18</td>\n",
       "      <td>29</td>\n",
       "      <td>...</td>\n",
       "      <td>Asian</td>\n",
       "      <td>NaN</td>\n",
       "      <td>Married or domestic partnership</td>\n",
       "      <td>2 Children</td>\n",
       "      <td>No</td>\n",
       "      <td>Postgraduate/Professional degree or other high...</td>\n",
       "      <td>$35,001-$50,000</td>\n",
       "      <td>7\\nVery Conservative/Right\\n</td>\n",
       "      <td>Very Religious7</td>\n",
       "      <td>NaN</td>\n",
       "    </tr>\n",
       "  </tbody>\n",
       "</table>\n",
       "<p>5 rows × 120 columns</p>\n",
       "</div>"
      ],
      "text/plain": [
       "           Status Duration (in seconds)         ResponseId UserLanguage  \\\n",
       "2  Survey Preview                  1310  R_DTUhAK0bBCz2bBL           EN   \n",
       "3      IP Address                212736  R_2CrBZPYHiA4drUF           EN   \n",
       "4      IP Address                   609  R_2DP7jzvlNn6PbmQ           EN   \n",
       "5      IP Address                   729  R_2RagKPp8PI8jOUC           EN   \n",
       "6      IP Address                   755  R_3fNOuozFxciaP24           EN   \n",
       "\n",
       "  CheckNo1Wrong                                      CheckNo2Wrong  \\\n",
       "2           NaN                                                NaN   \n",
       "3           NaN  No, those were just examples of the kind of se...   \n",
       "4           NaN                                                NaN   \n",
       "5           NaN                                                NaN   \n",
       "6           NaN                                                NaN   \n",
       "\n",
       "  RoomHouse.CryWalk_1 RoomHouse.CellphoneS_1 RoomHouse.NoHelpBoxe_1  \\\n",
       "2                 -54                    -57                    -50   \n",
       "3                  35                    -16                    -19   \n",
       "4                   0                     -3                     -6   \n",
       "5                 -49                    -96                    -71   \n",
       "6                 -28                    -19                    -18   \n",
       "\n",
       "  RoomHouse.GroceriesS_1  ...                     Q368 Q368_9_TEXT  \\\n",
       "2                     14  ...                    White         NaN   \n",
       "3                     20  ...  Asian,Prefer not to say         NaN   \n",
       "4                     25  ...                    White         NaN   \n",
       "5                    100  ...                    White         NaN   \n",
       "6                     29  ...                    Asian         NaN   \n",
       "\n",
       "                              Q370         Q371 Q170  \\\n",
       "2                           Single  No Children   No   \n",
       "3                           Single   3 Children   No   \n",
       "4                           Single  No Children   No   \n",
       "5                           Single  No Children  Yes   \n",
       "6  Married or domestic partnership   2 Children   No   \n",
       "\n",
       "                                                Q372             Q373  \\\n",
       "2                                       Some college   $5,000-$10,000   \n",
       "3                           Elementary/Middle School   $5,000-$10,000   \n",
       "4                                      4 year degree  $65,001-$80,000   \n",
       "5  Postgraduate/Professional degree or other high...  $25,001-$35,000   \n",
       "6  Postgraduate/Professional degree or other high...  $35,001-$50,000   \n",
       "\n",
       "                           Q183                   Q380 Bot.CheckFriday2  \n",
       "2                           NaN  Not at all religious1              NaN  \n",
       "3  7\\nVery Conservative/Right\\n        Very Religious7             asdf  \n",
       "4      1\\n\\nVery Liberal/Left\\n  Not at all religious1           FRIDAY  \n",
       "5      1\\n\\nVery Liberal/Left\\n  Not at all religious1              NaN  \n",
       "6  7\\nVery Conservative/Right\\n        Very Religious7              NaN  \n",
       "\n",
       "[5 rows x 120 columns]"
      ]
     },
     "execution_count": 10,
     "metadata": {},
     "output_type": "execute_result"
    }
   ],
   "source": [
    "df.head()"
   ]
  },
  {
   "cell_type": "markdown",
   "metadata": {},
   "source": [
    "### Renaming variables\n",
    "This is an important step. It helps shorten our code and, as you'll see later, it can help identify columns when using automated processes."
   ]
  },
  {
   "cell_type": "code",
   "execution_count": 11,
   "metadata": {},
   "outputs": [],
   "source": [
    "rename_cols = {\"Duration..in.seconds.\":\"Duration\",\n",
    "               \"Q366\":\"gender\",\n",
    "               \"Q367\":\"age\",\n",
    "               \"Q368\":\"race\",\n",
    "               \"Q372\":\"education\",\n",
    "               \"Q373\":\"income\"}"
   ]
  },
  {
   "cell_type": "code",
   "execution_count": 12,
   "metadata": {},
   "outputs": [],
   "source": [
    "#Rename columns\n",
    "df.rename(columns = rename_cols, inplace = True)"
   ]
  },
  {
   "cell_type": "code",
   "execution_count": 13,
   "metadata": {},
   "outputs": [
    {
     "data": {
      "text/html": [
       "<div>\n",
       "<style scoped>\n",
       "    .dataframe tbody tr th:only-of-type {\n",
       "        vertical-align: middle;\n",
       "    }\n",
       "\n",
       "    .dataframe tbody tr th {\n",
       "        vertical-align: top;\n",
       "    }\n",
       "\n",
       "    .dataframe thead th {\n",
       "        text-align: right;\n",
       "    }\n",
       "</style>\n",
       "<table border=\"1\" class=\"dataframe\">\n",
       "  <thead>\n",
       "    <tr style=\"text-align: right;\">\n",
       "      <th></th>\n",
       "      <th>Status</th>\n",
       "      <th>Duration (in seconds)</th>\n",
       "      <th>ResponseId</th>\n",
       "      <th>UserLanguage</th>\n",
       "      <th>CheckNo1Wrong</th>\n",
       "      <th>CheckNo2Wrong</th>\n",
       "      <th>RoomHouse.CryWalk_1</th>\n",
       "      <th>RoomHouse.CellphoneS_1</th>\n",
       "      <th>RoomHouse.NoHelpBoxe_1</th>\n",
       "      <th>RoomHouse.GroceriesS_1</th>\n",
       "      <th>...</th>\n",
       "      <th>race</th>\n",
       "      <th>Q368_9_TEXT</th>\n",
       "      <th>Q370</th>\n",
       "      <th>Q371</th>\n",
       "      <th>Q170</th>\n",
       "      <th>education</th>\n",
       "      <th>income</th>\n",
       "      <th>Q183</th>\n",
       "      <th>Q380</th>\n",
       "      <th>Bot.CheckFriday2</th>\n",
       "    </tr>\n",
       "  </thead>\n",
       "  <tbody>\n",
       "    <tr>\n",
       "      <td>2</td>\n",
       "      <td>Survey Preview</td>\n",
       "      <td>1310</td>\n",
       "      <td>R_DTUhAK0bBCz2bBL</td>\n",
       "      <td>EN</td>\n",
       "      <td>NaN</td>\n",
       "      <td>NaN</td>\n",
       "      <td>-54</td>\n",
       "      <td>-57</td>\n",
       "      <td>-50</td>\n",
       "      <td>14</td>\n",
       "      <td>...</td>\n",
       "      <td>White</td>\n",
       "      <td>NaN</td>\n",
       "      <td>Single</td>\n",
       "      <td>No Children</td>\n",
       "      <td>No</td>\n",
       "      <td>Some college</td>\n",
       "      <td>$5,000-$10,000</td>\n",
       "      <td>NaN</td>\n",
       "      <td>Not at all religious1</td>\n",
       "      <td>NaN</td>\n",
       "    </tr>\n",
       "    <tr>\n",
       "      <td>3</td>\n",
       "      <td>IP Address</td>\n",
       "      <td>212736</td>\n",
       "      <td>R_2CrBZPYHiA4drUF</td>\n",
       "      <td>EN</td>\n",
       "      <td>NaN</td>\n",
       "      <td>No, those were just examples of the kind of se...</td>\n",
       "      <td>35</td>\n",
       "      <td>-16</td>\n",
       "      <td>-19</td>\n",
       "      <td>20</td>\n",
       "      <td>...</td>\n",
       "      <td>Asian,Prefer not to say</td>\n",
       "      <td>NaN</td>\n",
       "      <td>Single</td>\n",
       "      <td>3 Children</td>\n",
       "      <td>No</td>\n",
       "      <td>Elementary/Middle School</td>\n",
       "      <td>$5,000-$10,000</td>\n",
       "      <td>7\\nVery Conservative/Right\\n</td>\n",
       "      <td>Very Religious7</td>\n",
       "      <td>asdf</td>\n",
       "    </tr>\n",
       "    <tr>\n",
       "      <td>4</td>\n",
       "      <td>IP Address</td>\n",
       "      <td>609</td>\n",
       "      <td>R_2DP7jzvlNn6PbmQ</td>\n",
       "      <td>EN</td>\n",
       "      <td>NaN</td>\n",
       "      <td>NaN</td>\n",
       "      <td>0</td>\n",
       "      <td>-3</td>\n",
       "      <td>-6</td>\n",
       "      <td>25</td>\n",
       "      <td>...</td>\n",
       "      <td>White</td>\n",
       "      <td>NaN</td>\n",
       "      <td>Single</td>\n",
       "      <td>No Children</td>\n",
       "      <td>No</td>\n",
       "      <td>4 year degree</td>\n",
       "      <td>$65,001-$80,000</td>\n",
       "      <td>1\\n\\nVery Liberal/Left\\n</td>\n",
       "      <td>Not at all religious1</td>\n",
       "      <td>FRIDAY</td>\n",
       "    </tr>\n",
       "    <tr>\n",
       "      <td>5</td>\n",
       "      <td>IP Address</td>\n",
       "      <td>729</td>\n",
       "      <td>R_2RagKPp8PI8jOUC</td>\n",
       "      <td>EN</td>\n",
       "      <td>NaN</td>\n",
       "      <td>NaN</td>\n",
       "      <td>-49</td>\n",
       "      <td>-96</td>\n",
       "      <td>-71</td>\n",
       "      <td>100</td>\n",
       "      <td>...</td>\n",
       "      <td>White</td>\n",
       "      <td>NaN</td>\n",
       "      <td>Single</td>\n",
       "      <td>No Children</td>\n",
       "      <td>Yes</td>\n",
       "      <td>Postgraduate/Professional degree or other high...</td>\n",
       "      <td>$25,001-$35,000</td>\n",
       "      <td>1\\n\\nVery Liberal/Left\\n</td>\n",
       "      <td>Not at all religious1</td>\n",
       "      <td>NaN</td>\n",
       "    </tr>\n",
       "    <tr>\n",
       "      <td>6</td>\n",
       "      <td>IP Address</td>\n",
       "      <td>755</td>\n",
       "      <td>R_3fNOuozFxciaP24</td>\n",
       "      <td>EN</td>\n",
       "      <td>NaN</td>\n",
       "      <td>NaN</td>\n",
       "      <td>-28</td>\n",
       "      <td>-19</td>\n",
       "      <td>-18</td>\n",
       "      <td>29</td>\n",
       "      <td>...</td>\n",
       "      <td>Asian</td>\n",
       "      <td>NaN</td>\n",
       "      <td>Married or domestic partnership</td>\n",
       "      <td>2 Children</td>\n",
       "      <td>No</td>\n",
       "      <td>Postgraduate/Professional degree or other high...</td>\n",
       "      <td>$35,001-$50,000</td>\n",
       "      <td>7\\nVery Conservative/Right\\n</td>\n",
       "      <td>Very Religious7</td>\n",
       "      <td>NaN</td>\n",
       "    </tr>\n",
       "  </tbody>\n",
       "</table>\n",
       "<p>5 rows × 120 columns</p>\n",
       "</div>"
      ],
      "text/plain": [
       "           Status Duration (in seconds)         ResponseId UserLanguage  \\\n",
       "2  Survey Preview                  1310  R_DTUhAK0bBCz2bBL           EN   \n",
       "3      IP Address                212736  R_2CrBZPYHiA4drUF           EN   \n",
       "4      IP Address                   609  R_2DP7jzvlNn6PbmQ           EN   \n",
       "5      IP Address                   729  R_2RagKPp8PI8jOUC           EN   \n",
       "6      IP Address                   755  R_3fNOuozFxciaP24           EN   \n",
       "\n",
       "  CheckNo1Wrong                                      CheckNo2Wrong  \\\n",
       "2           NaN                                                NaN   \n",
       "3           NaN  No, those were just examples of the kind of se...   \n",
       "4           NaN                                                NaN   \n",
       "5           NaN                                                NaN   \n",
       "6           NaN                                                NaN   \n",
       "\n",
       "  RoomHouse.CryWalk_1 RoomHouse.CellphoneS_1 RoomHouse.NoHelpBoxe_1  \\\n",
       "2                 -54                    -57                    -50   \n",
       "3                  35                    -16                    -19   \n",
       "4                   0                     -3                     -6   \n",
       "5                 -49                    -96                    -71   \n",
       "6                 -28                    -19                    -18   \n",
       "\n",
       "  RoomHouse.GroceriesS_1  ...                     race Q368_9_TEXT  \\\n",
       "2                     14  ...                    White         NaN   \n",
       "3                     20  ...  Asian,Prefer not to say         NaN   \n",
       "4                     25  ...                    White         NaN   \n",
       "5                    100  ...                    White         NaN   \n",
       "6                     29  ...                    Asian         NaN   \n",
       "\n",
       "                              Q370         Q371 Q170  \\\n",
       "2                           Single  No Children   No   \n",
       "3                           Single   3 Children   No   \n",
       "4                           Single  No Children   No   \n",
       "5                           Single  No Children  Yes   \n",
       "6  Married or domestic partnership   2 Children   No   \n",
       "\n",
       "                                           education           income  \\\n",
       "2                                       Some college   $5,000-$10,000   \n",
       "3                           Elementary/Middle School   $5,000-$10,000   \n",
       "4                                      4 year degree  $65,001-$80,000   \n",
       "5  Postgraduate/Professional degree or other high...  $25,001-$35,000   \n",
       "6  Postgraduate/Professional degree or other high...  $35,001-$50,000   \n",
       "\n",
       "                           Q183                   Q380 Bot.CheckFriday2  \n",
       "2                           NaN  Not at all religious1              NaN  \n",
       "3  7\\nVery Conservative/Right\\n        Very Religious7             asdf  \n",
       "4      1\\n\\nVery Liberal/Left\\n  Not at all religious1           FRIDAY  \n",
       "5      1\\n\\nVery Liberal/Left\\n  Not at all religious1              NaN  \n",
       "6  7\\nVery Conservative/Right\\n        Very Religious7              NaN  \n",
       "\n",
       "[5 rows x 120 columns]"
      ]
     },
     "execution_count": 13,
     "metadata": {},
     "output_type": "execute_result"
    }
   ],
   "source": [
    "df.head()"
   ]
  },
  {
   "cell_type": "markdown",
   "metadata": {},
   "source": [
    "### Data types\n",
    "Identify those coloumns which we will need to perform mathmatical computations with. These will have to be encoded as numeric, not as strings."
   ]
  },
  {
   "cell_type": "code",
   "execution_count": 14,
   "metadata": {},
   "outputs": [],
   "source": [
    "blame = [\"cry\", \"cellphon\", \"nohelpbo\"]\n",
    "praise = [\"grocerie\", \"medicine\", \"findgift\"]"
   ]
  },
  {
   "cell_type": "code",
   "execution_count": 15,
   "metadata": {},
   "outputs": [],
   "source": [
    "praise_cols = [col for col in df.columns if any(viol.lower() in col.lower() for viol in praise) and \"L.\" not in col]\n",
    "blame_cols = [col for col in df.columns if any(viol.lower() in col.lower() for viol in blame) and \"L.\" not in col]"
   ]
  },
  {
   "cell_type": "code",
   "execution_count": 16,
   "metadata": {},
   "outputs": [],
   "source": [
    "df[praise_cols] = df[praise_cols].apply(pd.to_numeric, errors='coerce')\n",
    "df[blame_cols] = df[blame_cols].apply(pd.to_numeric, errors='coerce')"
   ]
  },
  {
   "cell_type": "markdown",
   "metadata": {},
   "source": [
    "### Exclusions\n",
    "Applying the pre-registered exclusions criteria to remove ineligible participants from the dataset.<br><br>\n",
    "#### Remove experimenter runs"
   ]
  },
  {
   "cell_type": "code",
   "execution_count": 17,
   "metadata": {},
   "outputs": [],
   "source": [
    "#Excluding rows\n",
    "df = df[df[\"Status\"] == \"IP Address\"]"
   ]
  },
  {
   "cell_type": "markdown",
   "metadata": {},
   "source": [
    "#### Attention checks\n",
    "There were three attention checks. Failing either resulted in a clarification being presented to participants. This clarification is recorded in Qualtrics in the `CheckNo1Wrong` and `CheckNo2Wrong` columns. We will exclude participants who saw those clarifications:<br><br>**Attention check 1**"
   ]
  },
  {
   "cell_type": "code",
   "execution_count": 18,
   "metadata": {},
   "outputs": [],
   "source": [
    "df[\"CheckNo1Wrong\"] = df[\"CheckNo1Wrong\"].astype(str)"
   ]
  },
  {
   "cell_type": "code",
   "execution_count": 19,
   "metadata": {},
   "outputs": [
    {
     "data": {
      "text/plain": [
       "nan                                                                                          230\n",
       "Imagine that a person loudly says that they are embarrassed to be seen with someone else.     36\n",
       "Imagine that a person makes a disrespectful hand gesture to someone.                          30\n",
       "Imagine that a person deliberately offends someone's close friend.                            21\n",
       "Imagine that a person offers someone $5 for an item that is clearly worth more than $30.       8\n",
       "Name: CheckNo1Wrong, dtype: int64"
      ]
     },
     "execution_count": 19,
     "metadata": {},
     "output_type": "execute_result"
    }
   ],
   "source": [
    "df[\"CheckNo1Wrong\"].value_counts()"
   ]
  },
  {
   "cell_type": "code",
   "execution_count": 20,
   "metadata": {},
   "outputs": [],
   "source": [
    "#Conditions and negation\n",
    "df = df[~df[\"CheckNo1Wrong\"].str.contains(\"disrespectful\")] #In reality: simpler to include than exclude in this case"
   ]
  },
  {
   "cell_type": "code",
   "execution_count": 21,
   "metadata": {},
   "outputs": [
    {
     "data": {
      "text/plain": [
       "nan                                                                                          230\n",
       "Imagine that a person loudly says that they are embarrassed to be seen with someone else.     36\n",
       "Imagine that a person deliberately offends someone's close friend.                            21\n",
       "Imagine that a person offers someone $5 for an item that is clearly worth more than $30.       8\n",
       "Name: CheckNo1Wrong, dtype: int64"
      ]
     },
     "execution_count": 21,
     "metadata": {},
     "output_type": "execute_result"
    }
   ],
   "source": [
    "df[\"CheckNo1Wrong\"].value_counts()"
   ]
  },
  {
   "cell_type": "code",
   "execution_count": 22,
   "metadata": {},
   "outputs": [],
   "source": [
    "df = df[(~df[\"CheckNo1Wrong\"].str.contains(\"offers\")) & (~df[\"CheckNo1Wrong\"].str.contains(\"deliberately\"))]"
   ]
  },
  {
   "cell_type": "code",
   "execution_count": 23,
   "metadata": {},
   "outputs": [
    {
     "data": {
      "text/plain": [
       "nan                                                                                          230\n",
       "Imagine that a person loudly says that they are embarrassed to be seen with someone else.     36\n",
       "Name: CheckNo1Wrong, dtype: int64"
      ]
     },
     "execution_count": 23,
     "metadata": {},
     "output_type": "execute_result"
    }
   ],
   "source": [
    "df[\"CheckNo1Wrong\"].value_counts()"
   ]
  },
  {
   "cell_type": "markdown",
   "metadata": {},
   "source": [
    "**Attention checks 2 and 3**"
   ]
  },
  {
   "cell_type": "code",
   "execution_count": 24,
   "metadata": {},
   "outputs": [],
   "source": [
    "df[[\"CheckNo2Wrong\", \"CheckNo3\"]] = df[[\"CheckNo2Wrong\", \"CheckNo3\"]].astype(str)"
   ]
  },
  {
   "cell_type": "code",
   "execution_count": 25,
   "metadata": {},
   "outputs": [],
   "source": [
    "df = df[(~df[\"CheckNo2Wrong\"].str.contains(\"Yes\")) & (df[\"CheckNo3\"] == \"7= strongly agree\")]"
   ]
  },
  {
   "cell_type": "code",
   "execution_count": 26,
   "metadata": {},
   "outputs": [
    {
     "data": {
      "text/plain": [
       "nan                                                                               163\n",
       "No, those were just examples of the kind of sentence I will rate in this study     66\n",
       "Name: CheckNo2Wrong, dtype: int64"
      ]
     },
     "execution_count": 26,
     "metadata": {},
     "output_type": "execute_result"
    }
   ],
   "source": [
    "df[\"CheckNo2Wrong\"].value_counts()"
   ]
  },
  {
   "cell_type": "code",
   "execution_count": 27,
   "metadata": {},
   "outputs": [
    {
     "data": {
      "text/plain": [
       "7= strongly agree    229\n",
       "Name: CheckNo3, dtype: int64"
      ]
     },
     "execution_count": 27,
     "metadata": {},
     "output_type": "execute_result"
    }
   ],
   "source": [
    "df[\"CheckNo3\"].value_counts()"
   ]
  },
  {
   "cell_type": "markdown",
   "metadata": {},
   "source": [
    "#### Bot checks"
   ]
  },
  {
   "cell_type": "code",
   "execution_count": 28,
   "metadata": {},
   "outputs": [],
   "source": [
    "import numpy as np"
   ]
  },
  {
   "cell_type": "code",
   "execution_count": 29,
   "metadata": {},
   "outputs": [],
   "source": [
    "#Functions\n",
    "def str_dist(s, t, ratio_calc = False):\n",
    "    \"\"\" Levenshtein ratio and distance:\n",
    "        Calculates levenshtein distance between two strings.\n",
    "        \n",
    "        For all i and j, distance[i,j] will contain the Levenshtein\n",
    "        distance between the first i characters of s and the\n",
    "        first j characters of t\n",
    "    \"\"\"\n",
    "    # Initialize matrix of zeros\n",
    "    rows = len(s)+1\n",
    "    cols = len(t)+1\n",
    "    distance = np.zeros((rows,cols),dtype = int)\n",
    "\n",
    "    # Populate matrix of zeros with the indeces of each character of both strings\n",
    "    for i in range(1, rows):\n",
    "        for k in range(1,cols):\n",
    "            distance[i][0] = i\n",
    "            distance[0][k] = k\n",
    "\n",
    "    # Iterate over the matrix to compute the cost of deletions,insertions and/or substitutions    \n",
    "    for col in range(1, cols):\n",
    "        for row in range(1, rows):\n",
    "            if s[row-1] == t[col-1]:\n",
    "                cost = 0 # If the characters are the same in the two strings in a given position [i,j] then the cost is 0\n",
    "            else:\n",
    "                # In order to align the results with those of the Python Levenshtein package, if we choose to calculate the ratio\n",
    "                # the cost of a substitution is 2. If we calculate just distance, then the cost of a substitution is 1.\n",
    "                if ratio_calc == True:\n",
    "                    cost = 2\n",
    "                else:\n",
    "                    cost = 1\n",
    "            distance[row][col] = min(distance[row-1][col] + 1,      # Cost of deletions\n",
    "                                 distance[row][col-1] + 1,          # Cost of insertions\n",
    "                                 distance[row-1][col-1] + cost)     # Cost of substitutions\n",
    "    if ratio_calc == True:\n",
    "        # Computation of the Levenshtein Distance Ratio\n",
    "        Ratio = ((len(s)+len(t)) - distance[row][col]) / (len(s)+len(t))\n",
    "        return Ratio\n",
    "    else:\n",
    "        #Distance is the minimum number of edits needed to convert string a to string b\n",
    "        return distance[row][col]"
   ]
  },
  {
   "cell_type": "code",
   "execution_count": 30,
   "metadata": {},
   "outputs": [],
   "source": [
    "df[\"Bot.CheckFriday2\"] = df[\"Bot.CheckFriday2\"].astype(\"str\")"
   ]
  },
  {
   "cell_type": "code",
   "execution_count": 31,
   "metadata": {},
   "outputs": [
    {
     "data": {
      "text/plain": [
       "nan                                                    209\n",
       "FRIDAY                                                   7\n",
       "SATURDAY                                                 2\n",
       "THURSDAY                                                 2\n",
       "SUNDAY                                                   2\n",
       "saturday, sunday, friday                                 1\n",
       "THURSDAY, FRIDAY, SATERDAY.                              1\n",
       "YES                                                      1\n",
       "DAY OF THE WEEK AFTER THURSDAY AND BEFORE SATHURDAY      1\n",
       "friday                                                   1\n",
       "FRIDAY AND SUNDAY.                                       1\n",
       "MAYDAY                                                   1\n",
       "Name: Bot.CheckFriday2, dtype: int64"
      ]
     },
     "execution_count": 31,
     "metadata": {},
     "output_type": "execute_result"
    }
   ],
   "source": [
    "df['Bot.CheckFriday2'].value_counts()"
   ]
  },
  {
   "cell_type": "code",
   "execution_count": 32,
   "metadata": {},
   "outputs": [],
   "source": [
    "#Lowercase the responses and remove whitespace\n",
    "df['Bot.CheckFriday2'] = df['Bot.CheckFriday2'].str.lower()\n",
    "df['Bot.CheckFriday2'] = df['Bot.CheckFriday2'].str.strip()\n",
    "df['Bot.CheckFriday2'] = df['Bot.CheckFriday2'].str.replace(\" \",\"\")"
   ]
  },
  {
   "cell_type": "code",
   "execution_count": 33,
   "metadata": {},
   "outputs": [],
   "source": [
    "#Apply the function\n",
    "df['bot_ratio'] = df['Bot.CheckFriday2'].apply(lambda x: str_dist(x, 'friday', ratio_calc = True))\n",
    "df['bot_dist'] = df['Bot.CheckFriday2'].apply(lambda x: str_dist(x, 'friday'))"
   ]
  },
  {
   "cell_type": "code",
   "execution_count": 34,
   "metadata": {},
   "outputs": [],
   "source": [
    "df = df[df[\"bot_dist\"].isin([5, 0, 1])]"
   ]
  },
  {
   "cell_type": "markdown",
   "metadata": {},
   "source": [
    "#### Duration"
   ]
  },
  {
   "cell_type": "code",
   "execution_count": 37,
   "metadata": {},
   "outputs": [],
   "source": [
    "#Time data\n",
    "df[\"Duration (in seconds)\"] = df[\"Duration (in seconds)\"].astype(int)"
   ]
  },
  {
   "cell_type": "code",
   "execution_count": 38,
   "metadata": {},
   "outputs": [],
   "source": [
    "import matplotlib.pyplot as plt"
   ]
  },
  {
   "cell_type": "code",
   "execution_count": 40,
   "metadata": {},
   "outputs": [
    {
     "data": {
      "image/png": "[encoded data removed]",
      "text/plain": [
       "<Figure size 432x288 with 1 Axes>"
      ]
     },
     "metadata": {
      "needs_background": "light"
     },
     "output_type": "display_data"
    }
   ],
   "source": [
    "plt.figure()\n",
    "\n",
    "plt.hist(df[\"Duration (in seconds)\"])\n",
    "\n",
    "plt.show()"
   ]
  },
  {
   "cell_type": "code",
   "execution_count": 42,
   "metadata": {},
   "outputs": [],
   "source": [
    "time_mdn = df[\"Duration (in seconds)\"].median()"
   ]
  },
  {
   "cell_type": "code",
   "execution_count": 47,
   "metadata": {},
   "outputs": [
    {
     "data": {
      "image/png": "[encoded data removed]",
      "text/plain": [
       "<Figure size 432x288 with 1 Axes>"
      ]
     },
     "metadata": {
      "needs_background": "light"
     },
     "output_type": "display_data"
    }
   ],
   "source": [
    "plt.figure()\n",
    "\n",
    "plt.hist(df[\"Duration (in seconds)\"])\n",
    "plt.vlines(time_mdn, ymin = 0, ymax = 220, color = \"red\")\n",
    "\n",
    "plt.show()"
   ]
  },
  {
   "cell_type": "code",
   "execution_count": 48,
   "metadata": {},
   "outputs": [],
   "source": [
    "from scipy import stats"
   ]
  },
  {
   "cell_type": "code",
   "execution_count": 51,
   "metadata": {},
   "outputs": [],
   "source": [
    "time_mad = stats.median_absolute_deviation(df[\"Duration (in seconds)\"])"
   ]
  },
  {
   "cell_type": "code",
   "execution_count": 54,
   "metadata": {},
   "outputs": [
    {
     "data": {
      "image/png": "[encoded data removed]",
      "text/plain": [
       "<Figure size 432x288 with 1 Axes>"
      ]
     },
     "metadata": {
      "needs_background": "light"
     },
     "output_type": "display_data"
    }
   ],
   "source": [
    "plt.figure()\n",
    "\n",
    "plt.hist(df[\"Duration (in seconds)\"])\n",
    "plt.vlines(time_mdn, ymin = 0, ymax = 220, color = \"red\")\n",
    "plt.hlines(125, xmin = time_mdn - time_mad, xmax = time_mdn + time_mad, color = \"red\")\n",
    "\n",
    "plt.show()"
   ]
  },
  {
   "cell_type": "code",
   "execution_count": 55,
   "metadata": {},
   "outputs": [],
   "source": [
    "df = df[(df[\"Duration (in seconds)\"] >= time_mdn - time_mad) &\n",
    "        (df[\"Duration (in seconds)\"] <= time_mdn + time_mad)]\n"
   ]
  },
  {
   "cell_type": "markdown",
   "metadata": {},
   "source": [
    "### Recoding\n",
    "Oftentimes data will be exported with values that are uninterpretable. Sometimes, we may wish to update those values. We do this be through recoding. This is most commonly done with demographic data."
   ]
  },
  {
   "cell_type": "code",
   "execution_count": 60,
   "metadata": {},
   "outputs": [
    {
     "data": {
      "text/plain": [
       "$50,001-$65,000         32\n",
       "$35,001-$50,000         28\n",
       "$65,001-$80,000         26\n",
       "$25,001-$35,000         17\n",
       "$15,001-$25,000         13\n",
       "$80,001-$100,000        13\n",
       "$10,001-$15,000         12\n",
       "Over $100,000            8\n",
       "Under $5,000             5\n",
       "$5,000-$10,000           3\n",
       "Prefer not to answer     2\n",
       "Name: income, dtype: int64"
      ]
     },
     "execution_count": 60,
     "metadata": {},
     "output_type": "execute_result"
    }
   ],
   "source": [
    "df[\"income\"].value_counts()"
   ]
  },
  {
   "cell_type": "code",
   "execution_count": 64,
   "metadata": {},
   "outputs": [
    {
     "name": "stderr",
     "output_type": "stream",
     "text": [
      "/opt/anaconda3/lib/python3.7/site-packages/ipykernel_launcher.py:16: SettingWithCopyWarning: \n",
      "A value is trying to be set on a copy of a slice from a DataFrame.\n",
      "Try using .loc[row_indexer,col_indexer] = value instead\n",
      "\n",
      "See the caveats in the documentation: http://pandas.pydata.org/pandas-docs/stable/user_guide/indexing.html#returning-a-view-versus-a-copy\n",
      "  app.launch_new_instance()\n"
     ]
    }
   ],
   "source": [
    "#income\n",
    "conditions = [df[\"income\"] == \"$65,001-$80,000\",\n",
    "             df[\"income\"] == \"$25,001-$35,000\",\n",
    "             df[\"income\"] == \"$35,001-$50,000\",\n",
    "             df[\"income\"] == \"Over $100,000\",\n",
    "             df[\"income\"] == \"$5,000-$10,000\",\n",
    "             df[\"income\"] == \"$15,001-$25,000\",\n",
    "             df[\"income\"] == \"$80,001-$100,000\",\n",
    "             df[\"income\"] == \"$10,001-$15,000\",\n",
    "             df[\"income\"] == \"$50,001-$65,000\",\n",
    "             df[\"income\"] == \"Under $5,000\",\n",
    "             df[\"income\"] == \"Prefer not to answer\"]\n",
    "\n",
    "choices = [65000, 25000, 35000, 100000, 5000, 15000, 80000, 10000, 50000, 0, np.nan]\n",
    "\n",
    "df[\"income_recode\"] = np.select(conditions, choices, default = np.nan)"
   ]
  },
  {
   "cell_type": "code",
   "execution_count": 65,
   "metadata": {},
   "outputs": [
    {
     "data": {
      "text/plain": [
       "50000.0     32\n",
       "35000.0     28\n",
       "65000.0     26\n",
       "25000.0     17\n",
       "15000.0     13\n",
       "80000.0     13\n",
       "10000.0     12\n",
       "100000.0     8\n",
       "0.0          5\n",
       "5000.0       3\n",
       "Name: income_recode, dtype: int64"
      ]
     },
     "execution_count": 65,
     "metadata": {},
     "output_type": "execute_result"
    }
   ],
   "source": [
    "df[\"income_recode\"].value_counts()"
   ]
  },
  {
   "cell_type": "code",
   "execution_count": null,
   "metadata": {},
   "outputs": [],
   "source": [
    "#Income\n",
    "#Gender\n",
    "#Race\n",
    "#Age"
   ]
  },
  {
   "cell_type": "markdown",
   "metadata": {},
   "source": [
    "### Missing values\n",
    "Missing values are common in behavioral datasets. For instance, the lab's IRB does not allow us to force responses for certain participants. This means, people are free to skip questions without answering them.<br><br>We have three choices when it comes to handling missing values in our data:\n",
    "- Remove them\n",
    "- Estimate them using central tendancy\n",
    "- Predict them using machine learning\n",
    "\n",
    "We'll attempt the first two here as they are the most appropriate:"
   ]
  },
  {
   "cell_type": "code",
   "execution_count": 74,
   "metadata": {},
   "outputs": [
    {
     "data": {
      "text/plain": [
       "3"
      ]
     },
     "execution_count": 74,
     "metadata": {},
     "output_type": "execute_result"
    }
   ],
   "source": [
    "df[\"income_recode\"].isna().sum()"
   ]
  },
  {
   "cell_type": "code",
   "execution_count": 70,
   "metadata": {},
   "outputs": [],
   "source": [
    "#Remove\n",
    "df_del = df[~df[\"income_recode\"].isna()]"
   ]
  },
  {
   "cell_type": "code",
   "execution_count": 71,
   "metadata": {},
   "outputs": [
    {
     "name": "stderr",
     "output_type": "stream",
     "text": [
      "/opt/anaconda3/lib/python3.7/site-packages/numpy/lib/histograms.py:829: RuntimeWarning: invalid value encountered in greater_equal\n",
      "  keep = (tmp_a >= first_edge)\n",
      "/opt/anaconda3/lib/python3.7/site-packages/numpy/lib/histograms.py:830: RuntimeWarning: invalid value encountered in less_equal\n",
      "  keep &= (tmp_a <= last_edge)\n"
     ]
    },
    {
     "data": {
      "image/png": "[encoded data removed]",
      "text/plain": [
       "<Figure size 432x288 with 1 Axes>"
      ]
     },
     "metadata": {
      "needs_background": "light"
     },
     "output_type": "display_data"
    }
   ],
   "source": [
    "#Replace using central tendancy\n",
    "plt.figure()\n",
    "\n",
    "plt.hist(df[\"income_recode\"])\n",
    "\n",
    "plt.show()"
   ]
  },
  {
   "cell_type": "code",
   "execution_count": 73,
   "metadata": {},
   "outputs": [],
   "source": [
    "df_replace = df.copy()\n",
    "df_replace['income_recode'].fillna((df_replace['income_recode'].mean()), inplace=True)"
   ]
  },
  {
   "cell_type": "code",
   "execution_count": null,
   "metadata": {},
   "outputs": [],
   "source": [
    "#Predict missing values"
   ]
  },
  {
   "cell_type": "markdown",
   "metadata": {},
   "source": [
    "### Visualizations"
   ]
  },
  {
   "cell_type": "code",
   "execution_count": null,
   "metadata": {},
   "outputs": [],
   "source": [
    "import matplotlib.pyplot as plt"
   ]
  },
  {
   "cell_type": "code",
   "execution_count": null,
   "metadata": {},
   "outputs": [],
   "source": [
    "#Explore columns of interest\n",
    "plt.figure()\n",
    "\n",
    "plt.show()"
   ]
  },
  {
   "cell_type": "markdown",
   "metadata": {},
   "source": [
    "### Outliers"
   ]
  },
  {
   "cell_type": "code",
   "execution_count": null,
   "metadata": {},
   "outputs": [],
   "source": [
    "#Identify and remove outliers"
   ]
  },
  {
   "cell_type": "markdown",
   "metadata": {},
   "source": [
    "## Manipulation\n",
    "### Composite columns"
   ]
  },
  {
   "cell_type": "code",
   "execution_count": null,
   "metadata": {},
   "outputs": [],
   "source": []
  },
  {
   "cell_type": "markdown",
   "metadata": {},
   "source": [
    "## Testing"
   ]
  },
  {
   "cell_type": "code",
   "execution_count": null,
   "metadata": {},
   "outputs": [],
   "source": []
  },
  {
   "cell_type": "markdown",
   "metadata": {},
   "source": [
    "### Assumptions"
   ]
  },
  {
   "cell_type": "code",
   "execution_count": null,
   "metadata": {},
   "outputs": [],
   "source": [
    "df['Bot.CheckFriday2'] = df['Bot.CheckFriday2'].replace({\"nan\": np.nan})"
   ]
  }
 ],
 "metadata": {
  "kernelspec": {
   "display_name": "Python 3",
   "language": "python",
   "name": "python3"
  },
  "language_info": {
   "codemirror_mode": {
    "name": "ipython",
    "version": 3
   },
   "file_extension": ".py",
   "mimetype": "text/x-python",
   "name": "python",
   "nbconvert_exporter": "python",
   "pygments_lexer": "ipython3",
   "version": "3.7.4"
  }
 },
 "nbformat": 4,
 "nbformat_minor": 2
}
