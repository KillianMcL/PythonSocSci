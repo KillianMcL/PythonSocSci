{
 "cells": [
  {
   "cell_type": "markdown",
   "metadata": {},
   "source": [
    "# Data Cleaning and Manipulation"
   ]
  },
  {
   "cell_type": "code",
   "execution_count": null,
   "metadata": {},
   "outputs": [],
   "source": [
    "import pandas as pd"
   ]
  },
  {
   "cell_type": "markdown",
   "metadata": {},
   "source": [
    "# Dataset I\n",
    "*Utilitarian moral judgments in relational contexts*\n",
    "## Reading"
   ]
  },
  {
   "cell_type": "code",
   "execution_count": null,
   "metadata": {},
   "outputs": [],
   "source": [
    "df = pd.read_csv(\"./Data/relational_morality_utilitarian.csv\", encoding = \"utf-8-sig\", lineterminator = \"\\n\")\n",
    "df.head()"
   ]
  },
  {
   "cell_type": "markdown",
   "metadata": {},
   "source": [
    "## Exploring\n",
    "Macro-level. Does the data look okay?"
   ]
  },
  {
   "cell_type": "code",
   "execution_count": null,
   "metadata": {},
   "outputs": [],
   "source": [
    "df = df[2:] #Indexing\n",
    "df.head()"
   ]
  },
  {
   "cell_type": "markdown",
   "metadata": {},
   "source": [
    "Explore the factors/variables/columns"
   ]
  },
  {
   "cell_type": "code",
   "execution_count": null,
   "metadata": {},
   "outputs": [],
   "source": [
    "df.columns #An example of an 'attribute' (contrast with a 'method')"
   ]
  },
  {
   "cell_type": "code",
   "execution_count": null,
   "metadata": {},
   "outputs": [],
   "source": [
    "#List comprehension\n",
    "[col for col in df.columns] #Note the \\r, escape characters and encoding"
   ]
  },
  {
   "cell_type": "markdown",
   "metadata": {},
   "source": [
    "Data Types:<br>*String, Integer, Floating Point, None*"
   ]
  },
  {
   "cell_type": "code",
   "execution_count": null,
   "metadata": {},
   "outputs": [],
   "source": [
    "df.dtypes #Incorrect data types"
   ]
  },
  {
   "cell_type": "markdown",
   "metadata": {},
   "source": [
    "## Cleaning\n",
    "### Removing unwanted data (optional)\n",
    "Often our behavioral tasks output data which are not useful for our analyses or which contain identifying information that has to be removed prior to being made public.<br><br>Having the columns in the dataset does not interfere with analyses (we simply won't use them), but it can be helpful to remove them to reduce file storage size as well as visual clutter:"
   ]
  },
  {
   "cell_type": "code",
   "execution_count": null,
   "metadata": {},
   "outputs": [],
   "source": [
    "del_cols = [\"StartDate\", \"EndDate\", \"Status\", \"Progress\", \"Finished\", \"RecordedDate\",\\\n",
    "            \"DistributionChannel\", \"Q2\", \"intro.1\", \"CheckNo1\", \"CheckNo2\", \"RoomHouse.intro\",\"sib.intro\",\\\n",
    "            \"FatherChild.Intro\", \"MotherChild.Intro\", \"Romance.Intro\", \"Friends.Intro\", \"EmployBoss.Intro\",\\\n",
    "            \"Team.Intro\", \"FWB.Intro\", \"Strange.Intro\", \"Q90\", \"Q211\", \"GollwitzerMeasure_1\",\\\n",
    "            \"GollwitzerMeasure_2\", \"GollwitzerMeasure_3\", \"GollwitzerMeasure_4\", \"GollwitzerMeasure_5\",\\\n",
    "            \"GollwitzerMeasure_6\", \"Covid.Responsibility\", \"Covid.Threat.Persona\", \"Covid.Threat.Comm\",\\\n",
    "            \"Bot.CheckFriday\", \"Q16\", \"Q17\", \"Q67\", \"Random ID\\r\"]"
   ]
  },
  {
   "cell_type": "code",
   "execution_count": null,
   "metadata": {},
   "outputs": [],
   "source": [
    "#Drop columns\n",
    "df.drop()"
   ]
  },
  {
   "cell_type": "markdown",
   "metadata": {},
   "source": [
    "### Renaming variables\n",
    "This is an important step. It helps shorten our code and, as you'll see later, it can help identify columns when using automated processes."
   ]
  },
  {
   "cell_type": "code",
   "execution_count": null,
   "metadata": {},
   "outputs": [],
   "source": [
    "rename_cols = {\"Duration..in.seconds.\":\"Duration\",\n",
    "               \"Q366\":\"gender\",\n",
    "               \"Q367\":\"age\",\n",
    "               \"Q368\":\"race\",\n",
    "               \"Q372\":\"education\",\n",
    "               \"Q373\":\"income\"}"
   ]
  },
  {
   "cell_type": "code",
   "execution_count": null,
   "metadata": {},
   "outputs": [],
   "source": [
    "#Rename columns\n",
    "df.rename()"
   ]
  },
  {
   "cell_type": "markdown",
   "metadata": {},
   "source": [
    "### Data types\n",
    "Identify those coloumns which we will need to perform mathmatical computations with. These will have to be encoded as numeric, not as strings."
   ]
  },
  {
   "cell_type": "code",
   "execution_count": null,
   "metadata": {},
   "outputs": [],
   "source": [
    "blame = [\"cry\", \"cellphon\", \"nohelpbo\"]\n",
    "praise = [\"grocerie\", \"medicine\", \"findgift\"]"
   ]
  },
  {
   "cell_type": "code",
   "execution_count": null,
   "metadata": {},
   "outputs": [],
   "source": [
    "praise_cols = [col for col in df.columns if any(viol.lower() in col.lower() for viol in praise) and \"L.\" not in col]\n",
    "blame_cols = [col for col in df.columns if any(viol.lower() in col.lower() for viol in blame) and \"L.\" not in col]"
   ]
  },
  {
   "cell_type": "code",
   "execution_count": null,
   "metadata": {},
   "outputs": [],
   "source": [
    "df[praise_cols] = df[praise_cols].apply(pd.to_numeric, errors='coerce')\n",
    "df[blame_cols] = df[blame_cols].apply(pd.to_numeric, errors='coerce')"
   ]
  },
  {
   "cell_type": "code",
   "execution_count": null,
   "metadata": {},
   "outputs": [],
   "source": [
    "df[praise_cols[0]].dtypes"
   ]
  },
  {
   "cell_type": "markdown",
   "metadata": {},
   "source": [
    "### Exclusions\n",
    "Applying the pre-registered exclusions criteria to remove ineligible participants from the dataset."
   ]
  },
  {
   "cell_type": "code",
   "execution_count": null,
   "metadata": {},
   "outputs": [],
   "source": [
    "#Experimenter runs\n",
    "#Attention checks\n",
    "#Bot checks\n",
    "#Duration"
   ]
  },
  {
   "cell_type": "markdown",
   "metadata": {},
   "source": [
    "### Recoding\n",
    "Oftentimes data will be exported with values that are uninterpretable. Sometimes, we may wish to update those values. We do this be through recoding. This is most commonly done with demographic data."
   ]
  },
  {
   "cell_type": "code",
   "execution_count": null,
   "metadata": {},
   "outputs": [],
   "source": [
    "#Income\n",
    "#Gender\n",
    "#Race\n",
    "#Age"
   ]
  },
  {
   "cell_type": "markdown",
   "metadata": {},
   "source": [
    "### Missing values\n",
    "Missing values are common in behavioral datasets. For instance, the lab's IRB does not allow us to force responses for certain participants. This means, people are free to skip questions without answering them.<br><br>We have three choices when it comes to handling missing values in our data:\n",
    "- Remove them\n",
    "- Estimate them using central tendancy\n",
    "- Predict them using machine learning\n",
    "\n",
    "We'll attempt the first two here as they are the most appropriate:"
   ]
  },
  {
   "cell_type": "code",
   "execution_count": null,
   "metadata": {},
   "outputs": [],
   "source": [
    "#Remove"
   ]
  },
  {
   "cell_type": "code",
   "execution_count": null,
   "metadata": {},
   "outputs": [],
   "source": [
    "#Replace using central tendancy"
   ]
  },
  {
   "cell_type": "markdown",
   "metadata": {},
   "source": [
    "### Visualizations"
   ]
  },
  {
   "cell_type": "code",
   "execution_count": null,
   "metadata": {},
   "outputs": [],
   "source": [
    "import matplotlib.pyplot as plt"
   ]
  },
  {
   "cell_type": "code",
   "execution_count": null,
   "metadata": {},
   "outputs": [],
   "source": [
    "#Explore columns of interest\n",
    "plt.figure()\n",
    "\n",
    "plt.show()"
   ]
  },
  {
   "cell_type": "markdown",
   "metadata": {},
   "source": [
    "### Outliers"
   ]
  },
  {
   "cell_type": "code",
   "execution_count": null,
   "metadata": {},
   "outputs": [],
   "source": [
    "#Identify and remove outliers"
   ]
  },
  {
   "cell_type": "markdown",
   "metadata": {},
   "source": [
    "## Manipulation\n",
    "### Composite columns"
   ]
  },
  {
   "cell_type": "code",
   "execution_count": null,
   "metadata": {},
   "outputs": [],
   "source": []
  },
  {
   "cell_type": "markdown",
   "metadata": {},
   "source": [
    "## Testing"
   ]
  },
  {
   "cell_type": "code",
   "execution_count": null,
   "metadata": {},
   "outputs": [],
   "source": []
  },
  {
   "cell_type": "markdown",
   "metadata": {},
   "source": [
    "### Assumptions"
   ]
  },
  {
   "cell_type": "code",
   "execution_count": null,
   "metadata": {},
   "outputs": [],
   "source": []
  }
 ],
 "metadata": {
  "kernelspec": {
   "display_name": "Python 3",
   "language": "python",
   "name": "python3"
  },
  "language_info": {
   "codemirror_mode": {
    "name": "ipython",
    "version": 3
   },
   "file_extension": ".py",
   "mimetype": "text/x-python",
   "name": "python",
   "nbconvert_exporter": "python",
   "pygments_lexer": "ipython3",
   "version": "3.7.4"
  }
 },
 "nbformat": 4,
 "nbformat_minor": 2
}
