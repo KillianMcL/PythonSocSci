{
 "cells": [
  {
   "cell_type": "markdown",
   "metadata": {},
   "source": [
    "# The Basics of Python\n",
    "## 1. Variables and Data Types\n",
    "### Variables\n",
    "In programming, variables are like signposts that direct your computer to a location in its memory. For convenience, we can think of them as storing information in a program's 'working memory'. The kind of information that variables store are values (i.e., letters and numbers) and objects. These are often refered to as items or elements.<br><br>Python allows for flexible naming of variables, with few constraints. All of the examples below are valid variables."
   ]
  },
  {
   "cell_type": "code",
   "execution_count": null,
   "metadata": {},
   "outputs": [],
   "source": [
    "x = 'Python'\n",
    "N = 3.78\n",
    "var_1 = [1, 7.6, \"12345\"]\n",
    "hellowWorld = 'classic'"
   ]
  },
  {
   "cell_type": "markdown",
   "metadata": {},
   "source": [
    "To demonstrate that the information is stored, simply 'recall' the variable:"
   ]
  },
  {
   "cell_type": "code",
   "execution_count": null,
   "metadata": {},
   "outputs": [],
   "source": [
    "x"
   ]
  },
  {
   "cell_type": "markdown",
   "metadata": {},
   "source": [
    "Using a **reserved** word, also known as a **keyword** will generate an error, as will beginning a variable name with a number. Notebooks display reserved words in <font color='green'>green</font>. Note that, unlike in other programming languages, variables are case sensitive in Python. `FirstVariable` is distinct from `Firstvariable`. Variable names cannot contain spaces or special characters (e.g., @, !, #)."
   ]
  },
  {
   "cell_type": "code",
   "execution_count": null,
   "metadata": {},
   "outputs": [],
   "source": [
    "continue = 1"
   ]
  },
  {
   "cell_type": "code",
   "execution_count": null,
   "metadata": {},
   "outputs": [],
   "source": [
    "1 = x"
   ]
  },
  {
   "cell_type": "markdown",
   "metadata": {},
   "source": [
    "Be careful, once created, variables are easily overwritten:"
   ]
  },
  {
   "cell_type": "code",
   "execution_count": null,
   "metadata": {},
   "outputs": [],
   "source": [
    "a = 1\n",
    "a = 2\n",
    "print(a)"
   ]
  },
  {
   "cell_type": "markdown",
   "metadata": {},
   "source": [
    "### Data Types"
   ]
  },
  {
   "cell_type": "markdown",
   "metadata": {},
   "source": [
    "There are 5 data types that can be assigned to variables, and which can be used in Python. When assigning values to variables, Python interprets the type of data you are intending to input. This is important - if `1,000` is stored as a word and not a number, Python will not allow you add to it. The data type of a variable determines what you can do to it, and how it can relate to other elements of your code.<br><br>The three major data types are:\n",
    "- **Strings:** Strings of letters, `str`\n",
    "- **Integers:** Whole numbers, `int`\n",
    "- **Floating points:** Numbers with decimal points, `float`\n",
    "\n",
    "\n",
    "The other two types are:\n",
    "- **None/NaN:** Technically the absense of a value, but is represented within variables `None`\n",
    "- **Infinite**: A non-integer value that is neither nothing nor something, `inf`"
   ]
  },
  {
   "cell_type": "code",
   "execution_count": null,
   "metadata": {},
   "outputs": [],
   "source": [
    "string = 'I am a string'\n",
    "integers = 1\n",
    "integers2 = 2\n",
    "floating_point = 7.689"
   ]
  },
  {
   "cell_type": "markdown",
   "metadata": {},
   "source": [
    "Note that strings must be enclosed in single or double quotation marks, and that any value so enclosed will be considered a string:"
   ]
  },
  {
   "cell_type": "code",
   "execution_count": null,
   "metadata": {},
   "outputs": [],
   "source": [
    "string = I am not a string"
   ]
  },
  {
   "cell_type": "code",
   "execution_count": null,
   "metadata": {},
   "outputs": [],
   "source": [
    "string = '101'\n",
    "type(string)"
   ]
  },
  {
   "cell_type": "markdown",
   "metadata": {},
   "source": [
    "Note that adding commas to large numbers is interpreted by Python as a seperator between different values:"
   ]
  },
  {
   "cell_type": "code",
   "execution_count": null,
   "metadata": {},
   "outputs": [],
   "source": [
    "acBal = 1,000,100\n",
    "print(acBal)"
   ]
  },
  {
   "cell_type": "code",
   "execution_count": null,
   "metadata": {},
   "outputs": [],
   "source": [
    "acBal = 1000100\n",
    "print(acBal)"
   ]
  },
  {
   "cell_type": "markdown",
   "metadata": {},
   "source": [
    "## 2. Operators, Statements, and Expressions\n",
    "### Operators\n",
    "Operators allow us to do things to variables and compare them to each other. We've already seem the **identifier** operator, `=`.\n"
   ]
  },
  {
   "cell_type": "code",
   "execution_count": null,
   "metadata": {},
   "outputs": [],
   "source": [
    "x = 190786\n",
    "x"
   ]
  },
  {
   "cell_type": "code",
   "execution_count": null,
   "metadata": {},
   "outputs": [],
   "source": [
    "y = 5678923\n",
    "x == y"
   ]
  },
  {
   "cell_type": "markdown",
   "metadata": {},
   "source": [
    "You will recognise the other common Python operators"
   ]
  },
  {
   "cell_type": "code",
   "execution_count": null,
   "metadata": {},
   "outputs": [],
   "source": [
    "x = 0\n",
    "x = x + 1\n",
    "print(x)"
   ]
  },
  {
   "cell_type": "code",
   "execution_count": null,
   "metadata": {},
   "outputs": [],
   "source": [
    "x = x + 50\n",
    "x = x - 2\n",
    "print(x)"
   ]
  },
  {
   "cell_type": "code",
   "execution_count": null,
   "metadata": {},
   "outputs": [],
   "source": [
    "#Multiplication\n",
    "x = x * 5\n",
    "print(x)\n",
    "#Division\n",
    "x = x/2\n",
    "print(x)"
   ]
  },
  {
   "cell_type": "markdown",
   "metadata": {},
   "source": [
    "There are operator shortcuts:"
   ]
  },
  {
   "cell_type": "code",
   "execution_count": null,
   "metadata": {},
   "outputs": [],
   "source": [
    "y = 90\n",
    "y += 5\n",
    "print(y)"
   ]
  },
  {
   "cell_type": "markdown",
   "metadata": {},
   "source": [
    "All operators can be used in this way."
   ]
  },
  {
   "cell_type": "markdown",
   "metadata": {},
   "source": [
    "### Statements\n",
    "A **statement** is a unit of code that the Python interpreter can execute. Examples include `print(x)`, as well as all the examples of using operators that we have seen\n",
    "<br>\n",
    "### Expressions\n",
    "An **expression** is a combination of values, variables, and operators:"
   ]
  },
  {
   "cell_type": "code",
   "execution_count": null,
   "metadata": {},
   "outputs": [],
   "source": [
    "x = 'This is really '\n",
    "y = 'two strings combined!'\n",
    "#This is an expression:\n",
    "z = x + y\n",
    "print(z)"
   ]
  },
  {
   "cell_type": "markdown",
   "metadata": {},
   "source": [
    "## 3. Functions and Methods\n",
    "### Functions, Abstraction, and Encapsulation\n",
    "We have already come accross at least one function:"
   ]
  },
  {
   "cell_type": "code",
   "execution_count": null,
   "metadata": {},
   "outputs": [],
   "source": [
    "x = 'How do I display this?'\n",
    "print(x)"
   ]
  },
  {
   "cell_type": "markdown",
   "metadata": {},
   "source": [
    "There are countless others:"
   ]
  },
  {
   "cell_type": "code",
   "execution_count": null,
   "metadata": {},
   "outputs": [],
   "source": [
    "print(len(x))\n",
    "y = [1, 345, 98, -17]\n",
    "print(sum(y))"
   ]
  },
  {
   "cell_type": "markdown",
   "metadata": {},
   "source": [
    "Many functions come ready to use in Python.`print()`, `len()`, and `sum()` are examples. Others are imported from libraries. However, we can also define our own functions in Python and use them whenever we need them. Here is a redundant example:"
   ]
  },
  {
   "cell_type": "code",
   "execution_count": null,
   "metadata": {},
   "outputs": [],
   "source": [
    "def addition(x, y):\n",
    "    '''Returns the sum of x and y'''\n",
    "    return x + y"
   ]
  },
  {
   "cell_type": "code",
   "execution_count": null,
   "metadata": {},
   "outputs": [],
   "source": [
    "a = 56\n",
    "b = -867\n",
    "c = addition(a, b) "
   ]
  },
  {
   "cell_type": "code",
   "execution_count": null,
   "metadata": {},
   "outputs": [],
   "source": [
    "print(c)"
   ]
  },
  {
   "cell_type": "markdown",
   "metadata": {},
   "source": [
    "#### Parameters and Return Values\n",
    "In short, we *feed* **arguements** to a function's **parameters** and **return values** are what the function gives us when it is *called*. Above, the variable we wanted to print is provided as an argument for one of the print function's parameters. When we called the `len()` function, it generated an integer, that was the function's return value.\n",
    "<br>\n",
    "#### Abstraction\n",
    "Writing and *calling* functions is an example of **abstraction**. Abstraction lets you focus on the task at hand without getting into the detauls the details. We use a function like `print()` without having to issue explicit instructions to Python about how to display text or varibales. All we need to do is call the function with one line of code.\n",
    "<br>\n",
    "#### Encapsulation\n",
    "No variable created in a function, including its parameters, can be directly accessed outside its function. This is a genral principle of coding called **encapsulation**. Encapsulation helps keep independent code separate from the **global scope** of your program, by hiding or encapsulating the details in a **local scope**. That's why you use parameters and return values: to communicate just the information that needs to be exchanged. Plus, you don't have to keep track of variables you create within a function in the rest of your program. \n",
    "<br>\n",
    "Encapsulation is closely related to abstraction, one removes the code from your main program, the other hides it.\n",
    "<br>\n",
    "<br>\n",
    "### Methods\n",
    "Methods are a lot like functions. Syntactically, a function is fed a variable, while a method comes after the variable that it is being applied to. The two are separated by dot notation. Below, a the `upper()` method is called on our variable, `x`:"
   ]
  },
  {
   "cell_type": "code",
   "execution_count": null,
   "metadata": {},
   "outputs": [],
   "source": [
    "x = 'i hAve CaPiTalizaTION iSsUes'\n",
    "x.upper()"
   ]
  },
  {
   "cell_type": "markdown",
   "metadata": {},
   "source": [
    "Like functions, methods can have parameters. Functions and methods differ in that **methods are properties of objects**. In the case above, `upper()` is a property of all objects of the string **class**:"
   ]
  },
  {
   "cell_type": "code",
   "execution_count": null,
   "metadata": {},
   "outputs": [],
   "source": [
    "x = 2020\n",
    "x.upper()"
   ]
  },
  {
   "cell_type": "markdown",
   "metadata": {},
   "source": [
    "Methods are an important component of object-orientated programing and coded when designing new objects, or classes. We may return to this process in a future workshop."
   ]
  },
  {
   "cell_type": "markdown",
   "metadata": {},
   "source": [
    "## Other Important Tips\n",
    "### Comments\n",
    "Comments are lines in your scripts, usually approximating natural langauge, that the compiler ignores. That is, they are not executed by the program. Comments help others understand your code **but they also help you**!\n"
   ]
  },
  {
   "cell_type": "code",
   "execution_count": null,
   "metadata": {},
   "outputs": [],
   "source": [
    "#This line does nothing\n",
    "##Nor does this line##\n",
    "'''And all this line will do is print'''"
   ]
  },
  {
   "cell_type": "markdown",
   "metadata": {},
   "source": [
    "Note that the last line in the block above is called a **docstring**. As the name suggests, it's a string that can be used to document code to the **final users** of your programs **at the front end**:"
   ]
  },
  {
   "cell_type": "code",
   "execution_count": null,
   "metadata": {},
   "outputs": [],
   "source": [
    "def welcome():\n",
    "    '''Welcomes you to Python!'''\n",
    "    message = 'Welcome!'\n",
    "    return print(message)"
   ]
  },
  {
   "cell_type": "code",
   "execution_count": null,
   "metadata": {},
   "outputs": [],
   "source": [
    "welcome()"
   ]
  },
  {
   "cell_type": "code",
   "execution_count": null,
   "metadata": {},
   "outputs": [],
   "source": [
    "print(welcome.__doc__)"
   ]
  }
 ],
 "metadata": {
  "kernelspec": {
   "display_name": "Python 3",
   "language": "python",
   "name": "python3"
  },
  "language_info": {
   "codemirror_mode": {
    "name": "ipython",
    "version": 3
   },
   "file_extension": ".py",
   "mimetype": "text/x-python",
   "name": "python",
   "nbconvert_exporter": "python",
   "pygments_lexer": "ipython3",
   "version": "3.7.4"
  }
 },
 "nbformat": 4,
 "nbformat_minor": 2
}
